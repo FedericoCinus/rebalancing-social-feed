{
 "cells": [
  {
   "cell_type": "code",
   "execution_count": 1,
   "id": "5eb48a3e",
   "metadata": {},
   "outputs": [
    {
     "data": {
      "text/plain": [
       "<module 'algorithms_approx3' from '/data/big/fcinus/FeedsRank/./src/algorithms_approx3.py'>"
      ]
     },
     "execution_count": 1,
     "metadata": {},
     "output_type": "execute_result"
    }
   ],
   "source": [
    "import numpy as np\n",
    "import networkx as nx\n",
    "import pickle\n",
    "import matplotlib.pyplot as plt\n",
    "from pathlib import Path\n",
    "import sys\n",
    "import scipy\n",
    "import time\n",
    "\n",
    "sys.path.append('./src')\n",
    "import algorithms_approx3 as LcGD\n",
    "from generative_graph_models import initialize_sparse_L, normalize_sparse_L\n",
    "from algorithms_optimal import cvx_optimizer\n",
    "from algorithms_approx3 import (objective_f, GD_optimizer_dir, \n",
    "                                opposite_view_heuristic_dir, popularity_heuristic_dir)\n",
    "\n",
    "from utils import set_mkl_threads, assert_results\n",
    "from generative_opinions_models import define_set_opinions, standardize\n",
    "import importlib\n",
    "set_mkl_threads(16)\n",
    "\n",
    "importlib.reload(LcGD)"
   ]
  },
  {
   "cell_type": "markdown",
   "id": "d8629712",
   "metadata": {},
   "source": [
    "## Synthetic graph initialization"
   ]
  },
  {
   "cell_type": "code",
   "execution_count": 45,
   "id": "a0f2d9e3",
   "metadata": {},
   "outputs": [],
   "source": [
    "def make_doubly_stochastic(M, ε=1e-3):\n",
    "    from sklearn.preprocessing import normalize\n",
    "    i = 0\n",
    "    while np.any(np.absolute(M.sum(axis=1)-np.ones(M.shape[0])) > ε):\n",
    "        M = normalize(M, axis=1, norm='l1')\n",
    "        M = normalize(M, axis=0, norm='l1')\n",
    "        if i == 10000:\n",
    "            print(\"reached max\")\n",
    "            break\n",
    "        i += 1\n",
    "    return M"
   ]
  },
  {
   "cell_type": "code",
   "execution_count": 86,
   "id": "943956a2",
   "metadata": {},
   "outputs": [
    {
     "name": "stderr",
     "output_type": "stream",
     "text": [
      "/tmp/ipykernel_1903691/256786180.py:3: FutureWarning: adjacency_matrix will return a scipy.sparse array instead of a matrix in Networkx 3.0.\n",
      "  A = nx.adjacency_matrix(G)\n"
     ]
    },
    {
     "name": "stdout",
     "output_type": "stream",
     "text": [
      "5.151515151515151\n"
     ]
    }
   ],
   "source": [
    "\n",
    "n = 100\n",
    "G = nx.erdos_renyi_graph(n, .05)\n",
    "A = nx.adjacency_matrix(G)\n",
    "\n",
    "I = np.identity(n)\n",
    "z_eq = np.random.uniform(size=(n, 1))\n",
    "A_eq = make_doubly_stochastic(A)\n",
    "s = (I + I-A_eq) @ z_eq\n",
    "\n",
    "e = A_eq.count_nonzero()\n",
    "D_perc = e/(n*(n-1))*100\n",
    "print(D_perc)"
   ]
  },
  {
   "cell_type": "code",
   "execution_count": 87,
   "id": "b520c607",
   "metadata": {
    "scrolled": true
   },
   "outputs": [
    {
     "name": "stdout",
     "output_type": "stream",
     "text": [
      "===============================================================================\n",
      "                                     CVXPY                                     \n",
      "                                     v1.3.0                                    \n",
      "===============================================================================\n",
      "(CVXPY) May 12 10:04:50 AM: Your problem has 10000 variables, 9945 constraints, and 0 parameters.\n",
      "(CVXPY) May 12 10:04:51 AM: It is compliant with the following grammars: DCP, DQCP\n",
      "(CVXPY) May 12 10:04:51 AM: (If you need to solve this problem multiple times, but with different data, consider using parameters.)\n",
      "(CVXPY) May 12 10:04:51 AM: CVXPY will first compile your problem; then, it will invoke a numerical solver to obtain a solution.\n",
      "-------------------------------------------------------------------------------\n",
      "                                  Compilation                                  \n",
      "-------------------------------------------------------------------------------\n",
      "(CVXPY) May 12 10:04:51 AM: Compiling problem (target solver=SCS).\n",
      "(CVXPY) May 12 10:04:51 AM: Reduction chain: Dcp2Cone -> CvxAttr2Constr -> ConeMatrixStuffing -> SCS\n",
      "(CVXPY) May 12 10:04:51 AM: Applying reduction Dcp2Cone\n",
      "(CVXPY) May 12 10:04:52 AM: Applying reduction CvxAttr2Constr\n",
      "(CVXPY) May 12 10:04:52 AM: Applying reduction ConeMatrixStuffing\n",
      "(CVXPY) May 12 10:05:02 AM: Applying reduction SCS\n",
      "(CVXPY) May 12 10:05:05 AM: Finished problem compilation (took 1.448e+01 seconds).\n",
      "-------------------------------------------------------------------------------\n",
      "                                Numerical solver                               \n",
      "-------------------------------------------------------------------------------\n",
      "(CVXPY) May 12 10:05:05 AM: Invoking solver SCS  to obtain a solution.\n",
      "------------------------------------------------------------------\n",
      "\t       SCS v3.2.2 - Splitting Conic Solver\n",
      "\t(c) Brendan O'Donoghue, Stanford University, 2012\n",
      "------------------------------------------------------------------\n",
      "problem:  variables n: 5051, constraints m: 15096\n",
      "cones: \t  z: primal zero / dual free vars: 4895\n",
      "\t  l: linear vars: 5050\n",
      "\t  s: psd vars: 5151, ssize: 1\n",
      "settings: eps_abs: 1.0e-05, eps_rel: 1.0e-05, eps_infeas: 1.0e-07\n",
      "\t  alpha: 1.50, scale: 1.00e-01, adaptive_scale: 1\n",
      "\t  max_iters: 100000, normalize: 1, rho_x: 1.00e-06\n",
      "\t  acceleration_lookback: 10, acceleration_interval: 10\n",
      "lin-sys:  sparse-direct-amd-qdldl\n",
      "\t  nnz(A): 34796, nnz(P): 0\n",
      "------------------------------------------------------------------\n",
      " iter | pri res | dua res |   gap   |   obj   |  scale  | time (s)\n",
      "------------------------------------------------------------------\n",
      "     0| 2.93e+01  1.12e+00  4.39e+01 -5.69e+00  1.00e-01  3.44e-02 \n",
      "   250| 7.15e-03  1.97e-03  2.55e-02  4.31e+01  1.00e-01  4.89e-01 \n",
      "   500| 3.55e-03  5.80e-04  9.16e-04  4.34e+01  3.14e-02  9.88e-01 \n",
      "   750| 1.17e-03  1.33e-04  7.86e-04  4.34e+01  3.14e-02  1.62e+00 \n",
      "  1000| 6.87e-04  6.96e-05  3.92e-04  4.34e+01  3.14e-02  2.07e+00 \n",
      "  1250| 5.13e-04  8.44e-05  4.14e-04  4.34e+01  3.14e-02  2.59e+00 \n",
      "  1500| 3.42e-04  4.23e-05  1.68e-04  4.34e+01  3.14e-02  3.01e+00 \n",
      "  1750| 2.33e-04  3.16e-05  1.32e-04  4.34e+01  3.14e-02  3.53e+00 \n",
      "  2000| 1.79e-03  7.02e-05  2.19e-05  4.34e+01  3.14e-02  4.01e+00 \n",
      "  2100| 1.55e-04  1.85e-05  3.78e-05  4.34e+01  3.14e-02  4.19e+00 \n",
      "------------------------------------------------------------------\n",
      "status:  solved\n",
      "timings: total: 4.19e+00s = setup: 2.28e-02s + solve: 4.17e+00s\n",
      "\t lin-sys: 9.56e-01s, cones: 2.98e+00s, accel: 4.90e-02s\n",
      "------------------------------------------------------------------\n",
      "objective = 43.376001\n",
      "------------------------------------------------------------------\n",
      "-------------------------------------------------------------------------------\n",
      "                                    Summary                                    \n",
      "-------------------------------------------------------------------------------\n",
      "(CVXPY) May 12 10:05:09 AM: Problem status: optimal\n",
      "(CVXPY) May 12 10:05:09 AM: Optimal value: 4.338e+01\n",
      "(CVXPY) May 12 10:05:09 AM: Compilation took 1.448e+01 seconds\n",
      "(CVXPY) May 12 10:05:09 AM: Solver (including time spent in interface) took 4.195e+00 seconds\n"
     ]
    }
   ],
   "source": [
    "A_opt, _, stats = cvx_optimizer(A_eq.todense(), s, verbosity=3)"
   ]
  },
  {
   "cell_type": "code",
   "execution_count": 88,
   "id": "b0a721c7",
   "metadata": {},
   "outputs": [],
   "source": [
    "def objective_f(z, A, sep=False):\n",
    "    from scipy.sparse import identity\n",
    "    I = identity(len(z))\n",
    "    if sep: \n",
    "        return ((0.5*z.T @ (I + scipy.sparse.diags(np.array(A.sum(axis=0)).flatten()) - (A+A.T)) @ z + z.T @ z).item(),\n",
    "                (z.T @ z).item())\n",
    "    return (0.5*z.T @ (I + scipy.sparse.diags(np.array(A.sum(axis=0)).flatten()) - (A+A.T)) @ z + z.T @ z).item()"
   ]
  },
  {
   "cell_type": "code",
   "execution_count": 89,
   "id": "673c2837",
   "metadata": {},
   "outputs": [
    {
     "data": {
      "text/plain": [
       "43.374498026151926"
      ]
     },
     "execution_count": 89,
     "metadata": {},
     "output_type": "execute_result"
    }
   ],
   "source": [
    "z, _ = scipy.sparse.linalg.bicg(2*I - A_opt, s, tol=1e-6)\n",
    "z = z.reshape((len(s), 1))\n",
    "objective_f(z, A_opt, False)"
   ]
  },
  {
   "cell_type": "code",
   "execution_count": 90,
   "id": "aa7699f1",
   "metadata": {
    "scrolled": true
   },
   "outputs": [
    {
     "name": "stdout",
     "output_type": "stream",
     "text": [
      "  Initializing LcGD ADAM solver with η=0.1\n",
      "  t=1, obj=100.000, total_red=33.980, Δ_obj=0.00000, thr=0.000510\n",
      "  t=2, obj=98.493, total_red=33.468, Δ_obj=0.00000, thr=0.000510\n",
      "  t=3, obj=97.814, total_red=33.238, Δ_obj=0.00000, thr=0.000510\n",
      "  t=4, obj=97.304, total_red=33.064, Δ_obj=0.00000, thr=0.000510\n",
      "  t=5, obj=97.148, total_red=33.011, Δ_obj=0.00000, thr=0.000510\n",
      "  t=6, obj=96.437, total_red=32.770, Δ_obj=0.00000, thr=0.000510\n",
      "  t=7, obj=95.546, total_red=32.467, Δ_obj=0.00000, thr=0.000510\n",
      "  t=8, obj=94.689, total_red=32.176, Δ_obj=0.00000, thr=0.000510\n",
      "  t=9, obj=93.709, total_red=31.843, Δ_obj=0.00000, thr=0.000510\n",
      "  t=10, obj=92.707, total_red=31.502, Δ_obj=0.00000, thr=0.000510\n",
      "  t=11, obj=92.117, total_red=31.302, Δ_obj=0.91880, thr=0.000510\n",
      "  t=12, obj=91.687, total_red=31.156, Δ_obj=0.73816, thr=0.000510\n",
      "  t=13, obj=91.573, total_red=31.117, Δ_obj=0.47265, thr=0.000510\n",
      "  t=14, obj=91.347, total_red=31.040, Δ_obj=0.25219, thr=0.000510\n",
      "  t=15, obj=91.038, total_red=30.935, Δ_obj=0.15769, thr=0.000510\n",
      "  t=16, obj=90.656, total_red=30.805, Δ_obj=0.24804, thr=0.000510\n",
      "  t=17, obj=90.335, total_red=30.696, Δ_obj=0.32025, thr=0.000510\n",
      "  t=18, obj=90.014, total_red=30.587, Δ_obj=0.32583, thr=0.000510\n",
      "  t=19, obj=89.812, total_red=30.518, Δ_obj=0.29767, thr=0.000510\n",
      "  t=20, obj=89.613, total_red=30.451, Δ_obj=0.24248, thr=0.000510\n",
      "  t=21, obj=89.396, total_red=30.377, Δ_obj=0.18589, thr=0.000510\n",
      "  t=22, obj=89.161, total_red=30.297, Δ_obj=0.19258, thr=0.000510\n",
      "  t=23, obj=88.940, total_red=30.222, Δ_obj=0.20957, thr=0.000510\n",
      "  t=24, obj=88.713, total_red=30.145, Δ_obj=0.21146, thr=0.000510\n",
      "  t=25, obj=88.480, total_red=30.066, Δ_obj=0.20742, thr=0.000510\n",
      "  t=26, obj=88.192, total_red=29.968, Δ_obj=0.21312, thr=0.000510\n",
      "  t=27, obj=87.876, total_red=29.861, Δ_obj=0.24170, thr=0.000510\n",
      "  t=28, obj=87.516, total_red=29.738, Δ_obj=0.28014, thr=0.000510\n",
      "  t=29, obj=87.142, total_red=29.611, Δ_obj=0.31328, thr=0.000510\n",
      "  t=30, obj=86.799, total_red=29.495, Δ_obj=0.34009, thr=0.000510\n",
      "  t=31, obj=86.433, total_red=29.370, Δ_obj=0.33254, thr=0.000510\n",
      "  t=32, obj=86.051, total_red=29.240, Δ_obj=0.32884, thr=0.000510\n",
      "  t=33, obj=85.644, total_red=29.102, Δ_obj=0.34677, thr=0.000510\n",
      "  t=34, obj=85.198, total_red=28.951, Δ_obj=0.36577, thr=0.000510\n",
      "  t=35, obj=84.727, total_red=28.790, Δ_obj=0.39531, thr=0.000510\n",
      "  t=36, obj=84.214, total_red=28.616, Δ_obj=0.42497, thr=0.000510\n",
      "  t=37, obj=83.683, total_red=28.436, Δ_obj=0.45595, thr=0.000510\n",
      "  t=38, obj=83.143, total_red=28.252, Δ_obj=0.48371, thr=0.000510\n",
      "  t=39, obj=82.695, total_red=28.100, Δ_obj=0.49669, thr=0.000510\n",
      "  t=40, obj=82.275, total_red=27.957, Δ_obj=0.45793, thr=0.000510\n",
      "  t=41, obj=81.877, total_red=27.822, Δ_obj=0.40243, thr=0.000510\n",
      "  t=42, obj=81.488, total_red=27.690, Δ_obj=0.37944, thr=0.000510\n",
      "  t=43, obj=81.099, total_red=27.558, Δ_obj=0.36479, thr=0.000510\n",
      "  t=44, obj=80.719, total_red=27.429, Δ_obj=0.36039, thr=0.000510\n",
      "  t=45, obj=80.421, total_red=27.327, Δ_obj=0.35635, thr=0.000510\n",
      "  t=46, obj=80.129, total_red=27.228, Δ_obj=0.31451, thr=0.000510\n",
      "  t=47, obj=79.846, total_red=27.132, Δ_obj=0.27330, thr=0.000510\n",
      "  t=48, obj=79.574, total_red=27.039, Δ_obj=0.26643, thr=0.000510\n",
      "  t=49, obj=79.333, total_red=26.958, Δ_obj=0.25746, thr=0.000510\n",
      "  t=50, obj=79.121, total_red=26.886, Δ_obj=0.23789, thr=0.000510\n",
      "  t=51, obj=78.922, total_red=26.818, Δ_obj=0.20978, thr=0.000510\n",
      "  t=52, obj=78.814, total_red=26.781, Δ_obj=0.19035, thr=0.000510\n",
      "  t=53, obj=78.732, total_red=26.753, Δ_obj=0.14223, thr=0.000510\n",
      "  t=54, obj=78.655, total_red=26.727, Δ_obj=0.08813, thr=0.000510\n",
      "  t=55, obj=78.592, total_red=26.706, Δ_obj=0.07403, thr=0.000510\n",
      "  t=56, obj=78.540, total_red=26.688, Δ_obj=0.06488, thr=0.000510\n",
      "  t=57, obj=78.502, total_red=26.675, Δ_obj=0.05290, thr=0.000510\n",
      "  t=58, obj=78.443, total_red=26.655, Δ_obj=0.04166, thr=0.000510\n",
      "  t=59, obj=78.326, total_red=26.615, Δ_obj=0.04497, thr=0.000510\n",
      "  t=60, obj=78.207, total_red=26.575, Δ_obj=0.08165, thr=0.000510\n",
      "  t=61, obj=78.085, total_red=26.534, Δ_obj=0.10970, thr=0.000510\n",
      "  t=62, obj=77.965, total_red=26.493, Δ_obj=0.11150, thr=0.000510\n",
      "  t=63, obj=77.859, total_red=26.457, Δ_obj=0.11212, thr=0.000510\n",
      "  t=64, obj=77.749, total_red=26.420, Δ_obj=0.10507, thr=0.000510\n",
      "  t=65, obj=77.635, total_red=26.381, Δ_obj=0.09989, thr=0.000510\n",
      "  t=66, obj=77.516, total_red=26.340, Δ_obj=0.10366, thr=0.000510\n",
      "  t=67, obj=77.392, total_red=26.298, Δ_obj=0.10818, thr=0.000510\n",
      "  t=68, obj=77.263, total_red=26.254, Δ_obj=0.11295, thr=0.000510\n",
      "  t=69, obj=77.198, total_red=26.232, Δ_obj=0.11717, thr=0.000510\n",
      "  t=70, obj=77.137, total_red=26.211, Δ_obj=0.08967, thr=0.000510\n",
      "  t=71, obj=77.080, total_red=26.192, Δ_obj=0.05867, thr=0.000510\n",
      "  t=72, obj=77.027, total_red=26.174, Δ_obj=0.05489, thr=0.000510\n",
      "  t=73, obj=76.971, total_red=26.155, Δ_obj=0.05107, thr=0.000510\n",
      "  t=74, obj=76.911, total_red=26.135, Δ_obj=0.05033, thr=0.000510\n",
      "  t=75, obj=76.839, total_red=26.110, Δ_obj=0.05340, thr=0.000510\n",
      "  t=76, obj=76.727, total_red=26.072, Δ_obj=0.06133, thr=0.000510\n",
      "  t=77, obj=76.562, total_red=26.016, Δ_obj=0.08553, thr=0.000510\n",
      "  t=78, obj=76.337, total_red=25.940, Δ_obj=0.12828, thr=0.000510\n",
      "  t=79, obj=76.056, total_red=25.844, Δ_obj=0.18057, thr=0.000510\n",
      "  t=80, obj=75.730, total_red=25.733, Δ_obj=0.23469, thr=0.000510\n",
      "  t=81, obj=75.383, total_red=25.615, Δ_obj=0.28129, thr=0.000510\n",
      "  t=82, obj=75.039, total_red=25.498, Δ_obj=0.31203, thr=0.000510\n",
      "  t=83, obj=74.709, total_red=25.386, Δ_obj=0.32070, thr=0.000510\n",
      "  t=84, obj=74.412, total_red=25.285, Δ_obj=0.31233, thr=0.000510\n",
      "  t=85, obj=74.156, total_red=25.199, Δ_obj=0.29058, thr=0.000510\n",
      "  t=86, obj=73.926, total_red=25.120, Δ_obj=0.25602, thr=0.000510\n",
      "  t=87, obj=73.722, total_red=25.051, Δ_obj=0.22498, thr=0.000510\n",
      "  t=88, obj=73.542, total_red=24.990, Δ_obj=0.20130, thr=0.000510\n",
      "  t=89, obj=73.430, total_red=24.952, Δ_obj=0.17826, thr=0.000510\n",
      "  t=90, obj=73.316, total_red=24.913, Δ_obj=0.13546, thr=0.000510\n",
      "  t=91, obj=73.180, total_red=24.867, Δ_obj=0.10477, thr=0.000510\n",
      "  t=92, obj=73.023, total_red=24.814, Δ_obj=0.11604, thr=0.000510\n",
      "  t=93, obj=72.863, total_red=24.759, Δ_obj=0.13553, thr=0.000510\n",
      "  t=94, obj=72.696, total_red=24.702, Δ_obj=0.14680, thr=0.000510\n",
      "  t=95, obj=72.514, total_red=24.641, Δ_obj=0.15163, thr=0.000510\n",
      "  t=96, obj=72.319, total_red=24.574, Δ_obj=0.16153, thr=0.000510\n",
      "  t=97, obj=72.113, total_red=24.504, Δ_obj=0.17475, thr=0.000510\n",
      "  t=98, obj=71.897, total_red=24.431, Δ_obj=0.18614, thr=0.000510\n",
      "  t=99, obj=71.675, total_red=24.355, Δ_obj=0.19549, thr=0.000510\n",
      "  t=100, obj=71.448, total_red=24.278, Δ_obj=0.20286, thr=0.000510\n",
      "early_stopping=True, you reached 100/100, A increment 0.1444692713050323, Δ_obj=0.20834319, precision=0.00100000. Please increase max_iters!\n"
     ]
    }
   ],
   "source": [
    "grad_params = {'budget': 1.}\n",
    "lr_params = {'lr_routine': 'constant', 'lr_coeff': .1}\n",
    "A_final, objectives, stats = LcGD.GD_optimizer_dir(A_eq, s, 100, True, \n",
    "                                                \"ADAM\", grad_params, lr_params, verbosity=1)"
   ]
  },
  {
   "cell_type": "code",
   "execution_count": 91,
   "id": "3ad308eb",
   "metadata": {},
   "outputs": [
    {
     "data": {
      "text/plain": [
       "37.593325739531124"
      ]
     },
     "execution_count": 91,
     "metadata": {},
     "output_type": "execute_result"
    }
   ],
   "source": [
    "z, _ = scipy.sparse.linalg.bicg(2*I - A_final, s, tol=1e-6)\n",
    "z = z.reshape((len(s), 1))\n",
    "objective_f(z, A_opt, False)"
   ]
  },
  {
   "cell_type": "markdown",
   "id": "6be201df",
   "metadata": {},
   "source": [
    "## Real large graph definition"
   ]
  },
  {
   "cell_type": "code",
   "execution_count": 2,
   "id": "609d0fa0",
   "metadata": {},
   "outputs": [
    {
     "data": {
      "text/plain": [
       "1029"
      ]
     },
     "execution_count": 2,
     "metadata": {},
     "output_type": "execute_result"
    }
   ],
   "source": [
    "from sklearn.preprocessing import normalize\n",
    "\n",
    "n = 40\n",
    "A_eq = np.random.choice(3, size=(n, n))\n",
    "np.fill_diagonal(A_eq, 0.)\n",
    "A_eq = normalize(A_eq, axis=1, norm='l1')\n",
    "A_eq = scipy.sparse.csr_matrix(A_eq)\n",
    "\n",
    "I = np.identity(n)\n",
    "z_eq = np.random.uniform(size=(n, 1))\n",
    "s = (I + I-A_eq) @ z_eq\n",
    "A_eq.count_nonzero()"
   ]
  },
  {
   "cell_type": "raw",
   "id": "4f0c7cd0",
   "metadata": {},
   "source": [
    "name = \"flickr-growth\"\n",
    "with open(f\"./datasets/graphs/directed/real_large/{name}/_{name}\") as file:\n",
    "    for i, line in enumerate(file.readlines()):\n",
    "        if i != 0:\n",
    "            print(f\"{i}\", end=\"\\r\")\n",
    "            new_line = line.split(\" \")[0:2]\n",
    "            with open(f\"./datasets/graphs/directed/real_large/{name}/{name}\", \"a\") as new_file:\n",
    "                new_file.write(\" \".join(new_line)+\"\\n\")"
   ]
  },
  {
   "cell_type": "raw",
   "id": "846490f4",
   "metadata": {},
   "source": [
    "name = \"flickr-growth\"\n",
    "with open(f\"./datasets/graphs/directed/real_large/{name}/{name}\") as file:\n",
    "    for i, line in enumerate(file.readlines()):\n",
    "        print(line)\n",
    "        \n",
    "        if i==2:\n",
    "            break"
   ]
  },
  {
   "cell_type": "raw",
   "id": "c870b5c1",
   "metadata": {},
   "source": [
    "\n",
    "# 2. opinions (equilibrium: z_eq, internal: s_int)\n",
    "from generative_graph_models import define_graph_instance, assert_adj_stochasticity\n",
    "#\"flickr-growth\", \"digg-friends\", \"epinions_large\"\n",
    "net_model, opinion_model, initial_pol = (\"epinions_large\", \"gaussian\", 5) #\n",
    "A_eq, G = define_graph_instance(net_model, {}, directed=True, verbose=True, base='./datasets')\n",
    "assert_adj_stochasticity(A_eq, True)\n",
    "\n",
    "I = scipy.sparse.identity(G.number_of_nodes())\n",
    "\n",
    "_z_eq = define_set_opinions(opinion_model, G, pol=initial_pol, standardized=None)\n",
    "\n",
    "s = standardize(np.array((2*I - A_eq) @ _z_eq), scale=1)\n",
    "\n",
    "z_eq, _ = scipy.sparse.linalg.bicg(2*I - A_eq, s, tol=1e-6)"
   ]
  },
  {
   "cell_type": "markdown",
   "id": "d8a1d8cd",
   "metadata": {},
   "source": [
    "# Experiments"
   ]
  },
  {
   "cell_type": "code",
   "execution_count": 2,
   "id": "8fd60114",
   "metadata": {},
   "outputs": [
    {
     "name": "stdout",
     "output_type": "stream",
     "text": [
      "31335568 2070819\n"
     ]
    }
   ],
   "source": [
    "# graph\n",
    "folder_path = Path(\"./datasets/experiments/directed/approximation_large_task__degree_constraint/\")\n",
    "simulation_folder = Path(\"7bf676cc5c5ae7f140e03ffe7b61671b\")\n",
    "\n",
    "s = np.load(folder_path / simulation_folder / Path(\"internal_opinions_sample00_python.npy\"))\n",
    "A_eq = scipy.sparse.load_npz(folder_path / simulation_folder / Path(\"A_eq_sparse_sample00_python.npz\"))\n",
    "z_eq = np.load(folder_path / simulation_folder / Path(\"eq_opinions_sample00_python.npy\"))\n",
    "#with open(folder_path / simulation_folder / Path(\"experiments_data_method.pkl\"), \"rb\") as file:\n",
    "#    exps = pickle.load(file)\n",
    "\n",
    "I = scipy.sparse.identity(len(s))\n",
    "print(A_eq.count_nonzero(), len(s))"
   ]
  },
  {
   "cell_type": "code",
   "execution_count": 3,
   "id": "258c4918",
   "metadata": {},
   "outputs": [
    {
     "name": "stdout",
     "output_type": "stream",
     "text": [
      "0.902535942791468\n",
      "(805557.7471776066, 387079.7365911892) (892549.2149222158, 446708.6175766731)\n",
      "1.004808883682259\n",
      "(896841.3802774684, 457266.49588525575) (892549.2149222158, 446708.6175766731)\n"
     ]
    }
   ],
   "source": [
    "importlib.reload(LcGD)\n",
    "## Baseline 1\n",
    "A_oppo, _, _ = opposite_view_heuristic_dir(A_eq, s, directed=True)\n",
    "z, _ = scipy.sparse.linalg.bicg(2*I-A_oppo, s, tol=1e-6)\n",
    "z = z.reshape((len(s), 1))\n",
    "print(LcGD.objective_f(z, A_oppo) / LcGD.objective_f(z_eq, A_eq))\n",
    "print(LcGD.objective_f(z, A_oppo, True), LcGD.objective_f(z_eq, A_eq, True))\n",
    "\n",
    "# Baseline 2\n",
    "A_pop, _, _ = popularity_heuristic_dir(A_eq, s, directed=True)\n",
    "z, _ = scipy.sparse.linalg.bicg(2*I-A_pop, s, tol=1e-6)\n",
    "z = z.reshape((len(s), 1))\n",
    "print(LcGD.objective_f(z, A_pop) / LcGD.objective_f(z_eq, A_eq))\n",
    "print(LcGD.objective_f(z, A_pop, True), LcGD.objective_f(z_eq, A_eq, True))\n"
   ]
  },
  {
   "cell_type": "code",
   "execution_count": 5,
   "id": "f10899f7",
   "metadata": {
    "scrolled": true
   },
   "outputs": [
    {
     "name": "stdout",
     "output_type": "stream",
     "text": [
      "  Initializing LcGD ADAM solver with η=0.1\n",
      "  t=1, obj=100.000, total_red=18.986, Δ_obj=0.00000, thr=31.335568\n",
      "  t=2, obj=89.883, total_red=17.065, Δ_obj=0.00000, thr=31.335568\n",
      "  t=3, obj=87.988, total_red=16.706, Δ_obj=0.00000, thr=31.335568\n",
      "  t=4, obj=87.039, total_red=16.525, Δ_obj=0.00000, thr=31.335568\n",
      "  t=5, obj=86.494, total_red=16.422, Δ_obj=0.00000, thr=31.335568\n",
      "  t=6, obj=86.122, total_red=16.351, Δ_obj=0.00000, thr=31.335568\n",
      "  t=7, obj=85.907, total_red=16.310, Δ_obj=0.00000, thr=31.335568\n",
      "  t=8, obj=85.751, total_red=16.281, Δ_obj=0.00000, thr=31.335568\n",
      "  t=9, obj=85.632, total_red=16.258, Δ_obj=0.00000, thr=31.335568\n",
      "  t=10, obj=85.543, total_red=16.241, Δ_obj=0.00000, thr=31.335568\n",
      "  t=11, obj=85.464, total_red=16.226, Δ_obj=1858.57025, thr=31.335568\n"
     ]
    },
    {
     "ename": "KeyboardInterrupt",
     "evalue": "",
     "output_type": "error",
     "traceback": [
      "\u001b[0;31m---------------------------------------------------------------------------\u001b[0m",
      "\u001b[0;31mKeyboardInterrupt\u001b[0m                         Traceback (most recent call last)",
      "Cell \u001b[0;32mIn[5], line 4\u001b[0m\n\u001b[1;32m      2\u001b[0m grad_params \u001b[38;5;241m=\u001b[39m {\u001b[38;5;124m'\u001b[39m\u001b[38;5;124mbudget\u001b[39m\u001b[38;5;124m'\u001b[39m: \u001b[38;5;241m1.\u001b[39m}\n\u001b[1;32m      3\u001b[0m lr_params \u001b[38;5;241m=\u001b[39m {\u001b[38;5;124m'\u001b[39m\u001b[38;5;124mlr_routine\u001b[39m\u001b[38;5;124m'\u001b[39m: \u001b[38;5;124m'\u001b[39m\u001b[38;5;124mconstant\u001b[39m\u001b[38;5;124m'\u001b[39m, \u001b[38;5;124m'\u001b[39m\u001b[38;5;124mlr_coeff\u001b[39m\u001b[38;5;124m'\u001b[39m: \u001b[38;5;241m.1\u001b[39m}\n\u001b[0;32m----> 4\u001b[0m A_final, objectives, stats \u001b[38;5;241m=\u001b[39m \u001b[43mLcGD\u001b[49m\u001b[38;5;241;43m.\u001b[39;49m\u001b[43mGD_optimizer_dir\u001b[49m\u001b[43m(\u001b[49m\u001b[43mA_eq\u001b[49m\u001b[43m,\u001b[49m\u001b[43m \u001b[49m\u001b[43ms\u001b[49m\u001b[43m,\u001b[49m\u001b[43m \u001b[49m\u001b[38;5;241;43m100\u001b[39;49m\u001b[43m,\u001b[49m\u001b[43m \u001b[49m\u001b[38;5;28;43;01mTrue\u001b[39;49;00m\u001b[43m,\u001b[49m\u001b[43m \u001b[49m\n\u001b[1;32m      5\u001b[0m \u001b[43m                                                    \u001b[49m\u001b[38;5;124;43m\"\u001b[39;49m\u001b[38;5;124;43mADAM\u001b[39;49m\u001b[38;5;124;43m\"\u001b[39;49m\u001b[43m,\u001b[49m\u001b[43m \u001b[49m\u001b[43mgrad_params\u001b[49m\u001b[43m,\u001b[49m\u001b[43m \u001b[49m\u001b[43mlr_params\u001b[49m\u001b[43m,\u001b[49m\u001b[43m \u001b[49m\u001b[43mverbosity\u001b[49m\u001b[38;5;241;43m=\u001b[39;49m\u001b[38;5;241;43m1\u001b[39;49m\u001b[43m)\u001b[49m\n",
      "File \u001b[0;32m/data/big/fcinus/FeedsRank/./src/algorithms_approx3.py:103\u001b[0m, in \u001b[0;36mGD_optimizer_dir\u001b[0;34m(A_initial, s, max_iters, early_stopping, routine, grad_params, lr_params, verbosity, ε)\u001b[0m\n\u001b[1;32m     99\u001b[0m \u001b[38;5;28mprint\u001b[39m(\u001b[38;5;124mf\u001b[39m\u001b[38;5;124m\"\u001b[39m\u001b[38;5;124m  Initializing LcGD \u001b[39m\u001b[38;5;132;01m{\u001b[39;00mroutine\u001b[38;5;132;01m}\u001b[39;00m\u001b[38;5;124m solver with η=\u001b[39m\u001b[38;5;132;01m{\u001b[39;00mη\u001b[38;5;132;01m}\u001b[39;00m\u001b[38;5;124m\"\u001b[39m)\n\u001b[1;32m    101\u001b[0m \u001b[38;5;28;01mfor\u001b[39;00m t \u001b[38;5;129;01min\u001b[39;00m \u001b[38;5;28mrange\u001b[39m(\u001b[38;5;241m1\u001b[39m, \u001b[38;5;28mint\u001b[39m(max_iters)\u001b[38;5;241m+\u001b[39m\u001b[38;5;241m1\u001b[39m):\n\u001b[1;32m    102\u001b[0m     \u001b[38;5;66;03m# 2.1 grad\u001b[39;00m\n\u001b[0;32m--> 103\u001b[0m     grad \u001b[38;5;241m=\u001b[39m \u001b[43mgradient_sparse\u001b[49m\u001b[43m(\u001b[49m\u001b[43mA_inner\u001b[49m\u001b[43m,\u001b[49m\u001b[43m \u001b[49m\u001b[43ms\u001b[49m\u001b[43m,\u001b[49m\u001b[43m \u001b[49m\u001b[43mIs\u001b[49m\u001b[43m,\u001b[49m\u001b[43m \u001b[49m\u001b[43mJs\u001b[49m\u001b[43m,\u001b[49m\u001b[43m \u001b[49m\u001b[43mε\u001b[49m\u001b[38;5;241;43m=\u001b[39;49m\u001b[38;5;241;43m1e-6\u001b[39;49m\u001b[43m)\u001b[49m        \n\u001b[1;32m    105\u001b[0m     \u001b[38;5;66;03m# grad step\u001b[39;00m\n\u001b[1;32m    106\u001b[0m     A_prev \u001b[38;5;241m=\u001b[39m copy\u001b[38;5;241m.\u001b[39mdeepcopy(A_inner)\n",
      "File \u001b[0;32m/data/big/fcinus/FeedsRank/./src/algorithms_approx3.py:48\u001b[0m, in \u001b[0;36mgradient_sparse\u001b[0;34m(A, s, Is, Js, ε)\u001b[0m\n\u001b[1;32m     45\u001b[0m \u001b[38;5;124;03m\"\"\"Returns gradient data array\"\"\"\u001b[39;00m\n\u001b[1;32m     46\u001b[0m I \u001b[38;5;241m=\u001b[39m scipy\u001b[38;5;241m.\u001b[39msparse\u001b[38;5;241m.\u001b[39midentity(\u001b[38;5;28mlen\u001b[39m(s))\n\u001b[0;32m---> 48\u001b[0m z_1, _ \u001b[38;5;241m=\u001b[39m \u001b[43mscipy\u001b[49m\u001b[38;5;241;43m.\u001b[39;49m\u001b[43msparse\u001b[49m\u001b[38;5;241;43m.\u001b[39;49m\u001b[43mlinalg\u001b[49m\u001b[38;5;241;43m.\u001b[39;49m\u001b[43mbicg\u001b[49m\u001b[43m(\u001b[49m\u001b[38;5;241;43m2\u001b[39;49m\u001b[38;5;241;43m*\u001b[39;49m\u001b[43mI\u001b[49m\u001b[38;5;241;43m-\u001b[39;49m\u001b[43mA\u001b[49m\u001b[38;5;241;43m.\u001b[39;49m\u001b[43mT\u001b[49m\u001b[43m,\u001b[49m\u001b[43m \u001b[49m\u001b[43ms\u001b[49m\u001b[43m,\u001b[49m\u001b[43m \u001b[49m\u001b[43mtol\u001b[49m\u001b[38;5;241;43m=\u001b[39;49m\u001b[43mε\u001b[49m\u001b[43m)\u001b[49m\n\u001b[1;32m     49\u001b[0m z_1 \u001b[38;5;241m=\u001b[39m z_1\u001b[38;5;241m.\u001b[39mreshape((\u001b[38;5;28mlen\u001b[39m(s), \u001b[38;5;241m1\u001b[39m))\n\u001b[1;32m     50\u001b[0m z_2, _ \u001b[38;5;241m=\u001b[39m scipy\u001b[38;5;241m.\u001b[39msparse\u001b[38;5;241m.\u001b[39mlinalg\u001b[38;5;241m.\u001b[39mbicg(\u001b[38;5;241m2\u001b[39m\u001b[38;5;241m*\u001b[39mI\u001b[38;5;241m-\u001b[39mA, s, tol\u001b[38;5;241m=\u001b[39mε)\n",
      "File \u001b[0;32m<decorator-gen-1>:2\u001b[0m, in \u001b[0;36mbicg\u001b[0;34m(A, b, x0, tol, maxiter, M, callback, atol)\u001b[0m\n",
      "File \u001b[0;32m~/miniconda3/envs/feedsrankenv/lib/python3.10/site-packages/scipy/_lib/_threadsafety.py:44\u001b[0m, in \u001b[0;36mReentrancyLock.decorate.<locals>.caller\u001b[0;34m(func, *a, **kw)\u001b[0m\n\u001b[1;32m     42\u001b[0m \u001b[38;5;28;01mdef\u001b[39;00m \u001b[38;5;21mcaller\u001b[39m(func, \u001b[38;5;241m*\u001b[39ma, \u001b[38;5;241m*\u001b[39m\u001b[38;5;241m*\u001b[39mkw):\n\u001b[1;32m     43\u001b[0m     \u001b[38;5;28;01mwith\u001b[39;00m \u001b[38;5;28mself\u001b[39m:\n\u001b[0;32m---> 44\u001b[0m         \u001b[38;5;28;01mreturn\u001b[39;00m \u001b[43mfunc\u001b[49m\u001b[43m(\u001b[49m\u001b[38;5;241;43m*\u001b[39;49m\u001b[43ma\u001b[49m\u001b[43m,\u001b[49m\u001b[43m \u001b[49m\u001b[38;5;241;43m*\u001b[39;49m\u001b[38;5;241;43m*\u001b[39;49m\u001b[43mkw\u001b[49m\u001b[43m)\u001b[49m\n",
      "File \u001b[0;32m~/miniconda3/envs/feedsrankenv/lib/python3.10/site-packages/scipy/sparse/linalg/_isolve/iterative.py:190\u001b[0m, in \u001b[0;36mbicg\u001b[0;34m(A, b, x0, tol, maxiter, M, callback, atol)\u001b[0m\n\u001b[1;32m    188\u001b[0m \u001b[38;5;28;01melif\u001b[39;00m (ijob \u001b[38;5;241m==\u001b[39m \u001b[38;5;241m1\u001b[39m):\n\u001b[1;32m    189\u001b[0m     work[slice2] \u001b[38;5;241m*\u001b[39m\u001b[38;5;241m=\u001b[39m sclr2\n\u001b[0;32m--> 190\u001b[0m     work[slice2] \u001b[38;5;241m+\u001b[39m\u001b[38;5;241m=\u001b[39m sclr1\u001b[38;5;241m*\u001b[39m\u001b[43mmatvec\u001b[49m\u001b[43m(\u001b[49m\u001b[43mwork\u001b[49m\u001b[43m[\u001b[49m\u001b[43mslice1\u001b[49m\u001b[43m]\u001b[49m\u001b[43m)\u001b[49m\n\u001b[1;32m    191\u001b[0m \u001b[38;5;28;01melif\u001b[39;00m (ijob \u001b[38;5;241m==\u001b[39m \u001b[38;5;241m2\u001b[39m):\n\u001b[1;32m    192\u001b[0m     work[slice2] \u001b[38;5;241m*\u001b[39m\u001b[38;5;241m=\u001b[39m sclr2\n",
      "File \u001b[0;32m~/miniconda3/envs/feedsrankenv/lib/python3.10/site-packages/scipy/sparse/linalg/_interface.py:232\u001b[0m, in \u001b[0;36mLinearOperator.matvec\u001b[0;34m(self, x)\u001b[0m\n\u001b[1;32m    229\u001b[0m \u001b[38;5;28;01mif\u001b[39;00m x\u001b[38;5;241m.\u001b[39mshape \u001b[38;5;241m!=\u001b[39m (N,) \u001b[38;5;129;01mand\u001b[39;00m x\u001b[38;5;241m.\u001b[39mshape \u001b[38;5;241m!=\u001b[39m (N,\u001b[38;5;241m1\u001b[39m):\n\u001b[1;32m    230\u001b[0m     \u001b[38;5;28;01mraise\u001b[39;00m \u001b[38;5;167;01mValueError\u001b[39;00m(\u001b[38;5;124m'\u001b[39m\u001b[38;5;124mdimension mismatch\u001b[39m\u001b[38;5;124m'\u001b[39m)\n\u001b[0;32m--> 232\u001b[0m y \u001b[38;5;241m=\u001b[39m \u001b[38;5;28;43mself\u001b[39;49m\u001b[38;5;241;43m.\u001b[39;49m\u001b[43m_matvec\u001b[49m\u001b[43m(\u001b[49m\u001b[43mx\u001b[49m\u001b[43m)\u001b[49m\n\u001b[1;32m    234\u001b[0m \u001b[38;5;28;01mif\u001b[39;00m \u001b[38;5;28misinstance\u001b[39m(x, np\u001b[38;5;241m.\u001b[39mmatrix):\n\u001b[1;32m    235\u001b[0m     y \u001b[38;5;241m=\u001b[39m asmatrix(y)\n",
      "File \u001b[0;32m~/miniconda3/envs/feedsrankenv/lib/python3.10/site-packages/scipy/sparse/linalg/_interface.py:199\u001b[0m, in \u001b[0;36mLinearOperator._matvec\u001b[0;34m(self, x)\u001b[0m\n\u001b[1;32m    189\u001b[0m \u001b[38;5;28;01mdef\u001b[39;00m \u001b[38;5;21m_matvec\u001b[39m(\u001b[38;5;28mself\u001b[39m, x):\n\u001b[1;32m    190\u001b[0m     \u001b[38;5;124;03m\"\"\"Default matrix-vector multiplication handler.\u001b[39;00m\n\u001b[1;32m    191\u001b[0m \n\u001b[1;32m    192\u001b[0m \u001b[38;5;124;03m    If self is a linear operator of shape (M, N), then this method will\u001b[39;00m\n\u001b[0;32m   (...)\u001b[0m\n\u001b[1;32m    197\u001b[0m \u001b[38;5;124;03m    will define matrix-vector multiplication as well.\u001b[39;00m\n\u001b[1;32m    198\u001b[0m \u001b[38;5;124;03m    \"\"\"\u001b[39;00m\n\u001b[0;32m--> 199\u001b[0m     \u001b[38;5;28;01mreturn\u001b[39;00m \u001b[38;5;28;43mself\u001b[39;49m\u001b[38;5;241;43m.\u001b[39;49m\u001b[43mmatmat\u001b[49m\u001b[43m(\u001b[49m\u001b[43mx\u001b[49m\u001b[38;5;241;43m.\u001b[39;49m\u001b[43mreshape\u001b[49m\u001b[43m(\u001b[49m\u001b[38;5;241;43m-\u001b[39;49m\u001b[38;5;241;43m1\u001b[39;49m\u001b[43m,\u001b[49m\u001b[43m \u001b[49m\u001b[38;5;241;43m1\u001b[39;49m\u001b[43m)\u001b[49m\u001b[43m)\u001b[49m\n",
      "File \u001b[0;32m~/miniconda3/envs/feedsrankenv/lib/python3.10/site-packages/scipy/sparse/linalg/_interface.py:337\u001b[0m, in \u001b[0;36mLinearOperator.matmat\u001b[0;34m(self, X)\u001b[0m\n\u001b[1;32m    333\u001b[0m \u001b[38;5;28;01mif\u001b[39;00m X\u001b[38;5;241m.\u001b[39mshape[\u001b[38;5;241m0\u001b[39m] \u001b[38;5;241m!=\u001b[39m \u001b[38;5;28mself\u001b[39m\u001b[38;5;241m.\u001b[39mshape[\u001b[38;5;241m1\u001b[39m]:\n\u001b[1;32m    334\u001b[0m     \u001b[38;5;28;01mraise\u001b[39;00m \u001b[38;5;167;01mValueError\u001b[39;00m(\u001b[38;5;124m'\u001b[39m\u001b[38;5;124mdimension mismatch: \u001b[39m\u001b[38;5;132;01m%r\u001b[39;00m\u001b[38;5;124m, \u001b[39m\u001b[38;5;132;01m%r\u001b[39;00m\u001b[38;5;124m'\u001b[39m\n\u001b[1;32m    335\u001b[0m                      \u001b[38;5;241m%\u001b[39m (\u001b[38;5;28mself\u001b[39m\u001b[38;5;241m.\u001b[39mshape, X\u001b[38;5;241m.\u001b[39mshape))\n\u001b[0;32m--> 337\u001b[0m Y \u001b[38;5;241m=\u001b[39m \u001b[38;5;28;43mself\u001b[39;49m\u001b[38;5;241;43m.\u001b[39;49m\u001b[43m_matmat\u001b[49m\u001b[43m(\u001b[49m\u001b[43mX\u001b[49m\u001b[43m)\u001b[49m\n\u001b[1;32m    339\u001b[0m \u001b[38;5;28;01mif\u001b[39;00m \u001b[38;5;28misinstance\u001b[39m(Y, np\u001b[38;5;241m.\u001b[39mmatrix):\n\u001b[1;32m    340\u001b[0m     Y \u001b[38;5;241m=\u001b[39m asmatrix(Y)\n",
      "File \u001b[0;32m~/miniconda3/envs/feedsrankenv/lib/python3.10/site-packages/scipy/sparse/linalg/_interface.py:733\u001b[0m, in \u001b[0;36mMatrixLinearOperator._matmat\u001b[0;34m(self, X)\u001b[0m\n\u001b[1;32m    732\u001b[0m \u001b[38;5;28;01mdef\u001b[39;00m \u001b[38;5;21m_matmat\u001b[39m(\u001b[38;5;28mself\u001b[39m, X):\n\u001b[0;32m--> 733\u001b[0m     \u001b[38;5;28;01mreturn\u001b[39;00m \u001b[38;5;28;43mself\u001b[39;49m\u001b[38;5;241;43m.\u001b[39;49m\u001b[43mA\u001b[49m\u001b[38;5;241;43m.\u001b[39;49m\u001b[43mdot\u001b[49m\u001b[43m(\u001b[49m\u001b[43mX\u001b[49m\u001b[43m)\u001b[49m\n",
      "File \u001b[0;32m~/miniconda3/envs/feedsrankenv/lib/python3.10/site-packages/scipy/sparse/_base.py:416\u001b[0m, in \u001b[0;36mspmatrix.dot\u001b[0;34m(self, other)\u001b[0m\n\u001b[1;32m    414\u001b[0m     \u001b[38;5;28;01mreturn\u001b[39;00m \u001b[38;5;28mself\u001b[39m \u001b[38;5;241m*\u001b[39m other\n\u001b[1;32m    415\u001b[0m \u001b[38;5;28;01melse\u001b[39;00m:\n\u001b[0;32m--> 416\u001b[0m     \u001b[38;5;28;01mreturn\u001b[39;00m \u001b[38;5;28;43mself\u001b[39;49m\u001b[43m \u001b[49m\u001b[38;5;241;43m@\u001b[39;49m\u001b[43m \u001b[49m\u001b[43mother\u001b[49m\n",
      "File \u001b[0;32m~/miniconda3/envs/feedsrankenv/lib/python3.10/site-packages/scipy/sparse/_base.py:630\u001b[0m, in \u001b[0;36mspmatrix.__matmul__\u001b[0;34m(self, other)\u001b[0m\n\u001b[1;32m    627\u001b[0m \u001b[38;5;28;01mif\u001b[39;00m isscalarlike(other):\n\u001b[1;32m    628\u001b[0m     \u001b[38;5;28;01mraise\u001b[39;00m \u001b[38;5;167;01mValueError\u001b[39;00m(\u001b[38;5;124m\"\u001b[39m\u001b[38;5;124mScalar operands are not allowed, \u001b[39m\u001b[38;5;124m\"\u001b[39m\n\u001b[1;32m    629\u001b[0m                      \u001b[38;5;124m\"\u001b[39m\u001b[38;5;124muse \u001b[39m\u001b[38;5;124m'\u001b[39m\u001b[38;5;124m*\u001b[39m\u001b[38;5;124m'\u001b[39m\u001b[38;5;124m instead\u001b[39m\u001b[38;5;124m\"\u001b[39m)\n\u001b[0;32m--> 630\u001b[0m \u001b[38;5;28;01mreturn\u001b[39;00m \u001b[38;5;28;43mself\u001b[39;49m\u001b[38;5;241;43m.\u001b[39;49m\u001b[43m_mul_dispatch\u001b[49m\u001b[43m(\u001b[49m\u001b[43mother\u001b[49m\u001b[43m)\u001b[49m\n",
      "File \u001b[0;32m~/miniconda3/envs/feedsrankenv/lib/python3.10/site-packages/scipy/sparse/_base.py:530\u001b[0m, in \u001b[0;36mspmatrix._mul_dispatch\u001b[0;34m(self, other)\u001b[0m\n\u001b[1;32m    528\u001b[0m     \u001b[38;5;28;01mreturn\u001b[39;00m \u001b[38;5;28mself\u001b[39m\u001b[38;5;241m.\u001b[39m_mul_vector(other)\n\u001b[1;32m    529\u001b[0m \u001b[38;5;28;01melif\u001b[39;00m other\u001b[38;5;241m.\u001b[39mshape \u001b[38;5;241m==\u001b[39m (N, \u001b[38;5;241m1\u001b[39m):\n\u001b[0;32m--> 530\u001b[0m     \u001b[38;5;28;01mreturn\u001b[39;00m \u001b[38;5;28;43mself\u001b[39;49m\u001b[38;5;241;43m.\u001b[39;49m\u001b[43m_mul_vector\u001b[49m\u001b[43m(\u001b[49m\u001b[43mother\u001b[49m\u001b[38;5;241;43m.\u001b[39;49m\u001b[43mravel\u001b[49m\u001b[43m(\u001b[49m\u001b[43m)\u001b[49m\u001b[43m)\u001b[49m\u001b[38;5;241m.\u001b[39mreshape(M, \u001b[38;5;241m1\u001b[39m)\n\u001b[1;32m    531\u001b[0m \u001b[38;5;28;01melif\u001b[39;00m other\u001b[38;5;241m.\u001b[39mndim \u001b[38;5;241m==\u001b[39m \u001b[38;5;241m2\u001b[39m \u001b[38;5;129;01mand\u001b[39;00m other\u001b[38;5;241m.\u001b[39mshape[\u001b[38;5;241m0\u001b[39m] \u001b[38;5;241m==\u001b[39m N:\n\u001b[1;32m    532\u001b[0m     \u001b[38;5;28;01mreturn\u001b[39;00m \u001b[38;5;28mself\u001b[39m\u001b[38;5;241m.\u001b[39m_mul_multivector(other)\n",
      "File \u001b[0;32m~/miniconda3/envs/feedsrankenv/lib/python3.10/site-packages/scipy/sparse/_compressed.py:489\u001b[0m, in \u001b[0;36m_cs_matrix._mul_vector\u001b[0;34m(self, other)\u001b[0m\n\u001b[1;32m    487\u001b[0m \u001b[38;5;66;03m# csr_matvec or csc_matvec\u001b[39;00m\n\u001b[1;32m    488\u001b[0m fn \u001b[38;5;241m=\u001b[39m \u001b[38;5;28mgetattr\u001b[39m(_sparsetools, \u001b[38;5;28mself\u001b[39m\u001b[38;5;241m.\u001b[39mformat \u001b[38;5;241m+\u001b[39m \u001b[38;5;124m'\u001b[39m\u001b[38;5;124m_matvec\u001b[39m\u001b[38;5;124m'\u001b[39m)\n\u001b[0;32m--> 489\u001b[0m \u001b[43mfn\u001b[49m\u001b[43m(\u001b[49m\u001b[43mM\u001b[49m\u001b[43m,\u001b[49m\u001b[43m \u001b[49m\u001b[43mN\u001b[49m\u001b[43m,\u001b[49m\u001b[43m \u001b[49m\u001b[38;5;28;43mself\u001b[39;49m\u001b[38;5;241;43m.\u001b[39;49m\u001b[43mindptr\u001b[49m\u001b[43m,\u001b[49m\u001b[43m \u001b[49m\u001b[38;5;28;43mself\u001b[39;49m\u001b[38;5;241;43m.\u001b[39;49m\u001b[43mindices\u001b[49m\u001b[43m,\u001b[49m\u001b[43m \u001b[49m\u001b[38;5;28;43mself\u001b[39;49m\u001b[38;5;241;43m.\u001b[39;49m\u001b[43mdata\u001b[49m\u001b[43m,\u001b[49m\u001b[43m \u001b[49m\u001b[43mother\u001b[49m\u001b[43m,\u001b[49m\u001b[43m \u001b[49m\u001b[43mresult\u001b[49m\u001b[43m)\u001b[49m\n\u001b[1;32m    491\u001b[0m \u001b[38;5;28;01mreturn\u001b[39;00m result\n",
      "\u001b[0;31mKeyboardInterrupt\u001b[0m: "
     ]
    }
   ],
   "source": [
    "importlib.reload(LcGD)\n",
    "grad_params = {'budget': 1.}\n",
    "lr_params = {'lr_routine': 'constant', 'lr_coeff': .1}\n",
    "A_final, objectives, stats = LcGD.GD_optimizer_dir(A_eq, s, 100, True, \n",
    "                                                    \"ADAM\", grad_params, lr_params, verbosity=1)"
   ]
  },
  {
   "cell_type": "code",
   "execution_count": 6,
   "id": "890865f5",
   "metadata": {},
   "outputs": [],
   "source": [
    "from generative_graph_models import assert_adj_stochasticity\n",
    "\n",
    "assert_adj_stochasticity(A_final, True)\n"
   ]
  },
  {
   "cell_type": "code",
   "execution_count": 42,
   "id": "77459886",
   "metadata": {},
   "outputs": [
    {
     "data": {
      "text/plain": [
       "0.012823901376369086"
      ]
     },
     "execution_count": 42,
     "metadata": {},
     "output_type": "execute_result"
    }
   ],
   "source": [
    "G.number_of_edges()/(G.number_of_nodes()*(G.number_of_nodes()-1)) * 100"
   ]
  }
 ],
 "metadata": {
  "kernelspec": {
   "display_name": "feedsrankenv",
   "language": "python",
   "name": "feedsrankenv"
  },
  "language_info": {
   "codemirror_mode": {
    "name": "ipython",
    "version": 3
   },
   "file_extension": ".py",
   "mimetype": "text/x-python",
   "name": "python",
   "nbconvert_exporter": "python",
   "pygments_lexer": "ipython3",
   "version": "3.10.4"
  }
 },
 "nbformat": 4,
 "nbformat_minor": 5
}
