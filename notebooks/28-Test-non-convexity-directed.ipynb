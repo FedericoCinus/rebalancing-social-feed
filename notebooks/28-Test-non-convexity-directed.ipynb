{
 "cells": [
  {
   "cell_type": "code",
   "execution_count": 26,
   "id": "814dfd73",
   "metadata": {},
   "outputs": [],
   "source": [
    "import numpy as np\n",
    "import scipy\n",
    "from sklearn.preprocessing import normalize\n",
    "\n",
    "import sys\n",
    "sys.path.append('./src')\n",
    "import algorithms_approx3 as LcGD"
   ]
  },
  {
   "cell_type": "code",
   "execution_count": null,
   "id": "f5bde944",
   "metadata": {},
   "outputs": [],
   "source": []
  },
  {
   "cell_type": "code",
   "execution_count": 37,
   "id": "4fb166c1",
   "metadata": {},
   "outputs": [],
   "source": [
    "\n",
    "n = 3\n",
    "def generate_adj(n):\n",
    "    A = np.random.choice(3, size=(n, n))\n",
    "    np.fill_diagonal(A, 0.)\n",
    "    A = normalize(A, axis=1, norm='l1')\n",
    "    return A\n",
    "A = generate_adj(n)\n",
    "\n",
    "I = np.identity(n)\n",
    "z_eq = np.random.uniform(size=(n, 1))\n",
    "s = (I + I-A) @ z_eq\n",
    "assert np.all((z_eq - np.linalg.inv(I + np.diag(A.sum(axis=1)) - A) @ s) < 1e-9)"
   ]
  },
  {
   "cell_type": "code",
   "execution_count": 92,
   "id": "1705580b",
   "metadata": {},
   "outputs": [
    {
     "name": "stdout",
     "output_type": "stream",
     "text": [
      "False\n"
     ]
    },
    {
     "data": {
      "text/plain": [
       "(0.8748480741922038, 0.8419321329639888)"
      ]
     },
     "execution_count": 92,
     "metadata": {},
     "output_type": "execute_result"
    }
   ],
   "source": [
    "ε = 1e-6\n",
    "λ = .5\n",
    "#A1 = generate_adj(n)\n",
    "#A2 = generate_adj(n)\n",
    "#A3 = λ*A1+(1-λ)*A2\n",
    "s=np.array([[1], [0], [-1]])\n",
    "z_eq1, _ = scipy.sparse.linalg.bicg(2*I - A1, s, tol=ε)\n",
    "z_eq1 = z_eq1.reshape((len(s), 1))\n",
    "z_eq2, _ = scipy.sparse.linalg.bicg(2*I - A2, s, tol=ε)\n",
    "z_eq2 = z_eq2.reshape((len(s), 1))\n",
    "z_eq3, _ = scipy.sparse.linalg.bicg(2*I - A3, s, tol=ε)\n",
    "z_eq3 = z_eq3.reshape((len(s), 1))\n",
    "\n",
    "print(LcGD.objective_f(z_eq3, A3) < λ*LcGD.objective_f(z_eq1, A1) + (1-λ)*LcGD.objective_f(z_eq2, A2))\n",
    "LcGD.objective_f(z_eq3, A3), λ*LcGD.objective_f(z_eq1, A1) + (1-λ)*LcGD.objective_f(z_eq2, A2)"
   ]
  },
  {
   "cell_type": "code",
   "execution_count": 76,
   "id": "2e8b51c1",
   "metadata": {},
   "outputs": [
    {
     "name": "stdout",
     "output_type": "stream",
     "text": [
      "[[0.         1.         0.        ]\n",
      " [0.66666667 0.         0.33333333]\n",
      " [1.         0.         0.        ]] \n",
      "\n",
      " [[0.         1.         0.        ]\n",
      " [0.33333333 0.         0.66666667]\n",
      " [0.         1.         0.        ]]\n"
     ]
    }
   ],
   "source": [
    "print(A1, \"\\n\\n\", A2)"
   ]
  },
  {
   "cell_type": "code",
   "execution_count": 83,
   "id": "d1f189ec",
   "metadata": {},
   "outputs": [],
   "source": [
    "dis = 0\n",
    "for i in range(n):\n",
    "    for j in range(n):\n",
    "        dis += A[i, j] * (s[i] - s[j])**2"
   ]
  },
  {
   "cell_type": "code",
   "execution_count": 84,
   "id": "3fe78a2e",
   "metadata": {},
   "outputs": [
    {
     "data": {
      "text/plain": [
       "array([6.5])"
      ]
     },
     "execution_count": 84,
     "metadata": {},
     "output_type": "execute_result"
    }
   ],
   "source": [
    "dis"
   ]
  },
  {
   "cell_type": "code",
   "execution_count": 91,
   "id": "7fd5bf10",
   "metadata": {},
   "outputs": [
    {
     "data": {
      "text/plain": [
       "array([[6.5]])"
      ]
     },
     "execution_count": 91,
     "metadata": {},
     "output_type": "execute_result"
    }
   ],
   "source": [
    "\n",
    "s.T @ (I+np.diag(A.sum(axis=0)) -2*A)@ s"
   ]
  },
  {
   "cell_type": "markdown",
   "id": "0ab21750",
   "metadata": {},
   "source": [
    "---"
   ]
  },
  {
   "cell_type": "markdown",
   "id": "ed8b62a3",
   "metadata": {},
   "source": [
    "# Contro esempio"
   ]
  },
  {
   "cell_type": "code",
   "execution_count": 33,
   "id": "3f887807",
   "metadata": {},
   "outputs": [
    {
     "data": {
      "text/plain": [
       "array([[0.        , 0.45      , 0.05      , 0.5       ],\n",
       "       [0.        , 0.        , 0.03333333, 0.96666667],\n",
       "       [0.63333333, 0.33333333, 0.        , 0.03333333],\n",
       "       [0.42666667, 0.21333333, 0.36      , 0.        ]])"
      ]
     },
     "execution_count": 33,
     "metadata": {},
     "output_type": "execute_result"
    }
   ],
   "source": [
    "A3"
   ]
  },
  {
   "cell_type": "code",
   "execution_count": 34,
   "id": "b2bdcf36",
   "metadata": {},
   "outputs": [
    {
     "data": {
      "text/plain": [
       "array([[0.        , 0.5       , 0.        , 0.5       ],\n",
       "       [0.        , 0.        , 0.        , 1.        ],\n",
       "       [0.66666667, 0.33333333, 0.        , 0.        ],\n",
       "       [0.4       , 0.2       , 0.4       , 0.        ]])"
      ]
     },
     "execution_count": 34,
     "metadata": {},
     "output_type": "execute_result"
    }
   ],
   "source": [
    "A1"
   ]
  },
  {
   "cell_type": "code",
   "execution_count": 35,
   "id": "de0febe1",
   "metadata": {},
   "outputs": [
    {
     "data": {
      "text/plain": [
       "array([[0.        , 0.        , 0.5       , 0.5       ],\n",
       "       [0.        , 0.        , 0.33333333, 0.66666667],\n",
       "       [0.33333333, 0.33333333, 0.        , 0.33333333],\n",
       "       [0.66666667, 0.33333333, 0.        , 0.        ]])"
      ]
     },
     "execution_count": 35,
     "metadata": {},
     "output_type": "execute_result"
    }
   ],
   "source": [
    "A2"
   ]
  },
  {
   "cell_type": "code",
   "execution_count": 8,
   "id": "e57928ed",
   "metadata": {},
   "outputs": [
    {
     "data": {
      "text/plain": [
       "1.219668770129891"
      ]
     },
     "execution_count": 8,
     "metadata": {},
     "output_type": "execute_result"
    }
   ],
   "source": []
  },
  {
   "cell_type": "code",
   "execution_count": null,
   "id": "6a0b5d0d",
   "metadata": {},
   "outputs": [],
   "source": []
  }
 ],
 "metadata": {
  "kernelspec": {
   "display_name": "feedsrankenv",
   "language": "python",
   "name": "feedsrankenv"
  },
  "language_info": {
   "codemirror_mode": {
    "name": "ipython",
    "version": 3
   },
   "file_extension": ".py",
   "mimetype": "text/x-python",
   "name": "python",
   "nbconvert_exporter": "python",
   "pygments_lexer": "ipython3",
   "version": "3.10.4"
  }
 },
 "nbformat": 4,
 "nbformat_minor": 5
}
