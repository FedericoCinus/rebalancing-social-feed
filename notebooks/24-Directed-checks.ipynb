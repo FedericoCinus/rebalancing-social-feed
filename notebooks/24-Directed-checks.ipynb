{
 "cells": [
  {
   "cell_type": "code",
   "execution_count": 1,
   "id": "5eb48a3e",
   "metadata": {},
   "outputs": [
    {
     "data": {
      "text/plain": [
       "0"
      ]
     },
     "execution_count": 1,
     "metadata": {},
     "output_type": "execute_result"
    }
   ],
   "source": [
    "import numpy as np\n",
    "import networkx as nx\n",
    "import pickle\n",
    "import matplotlib.pyplot as plt\n",
    "from pathlib import Path\n",
    "import sys\n",
    "import scipy\n",
    "import time\n",
    "\n",
    "sys.path.append('./src')\n",
    "from generative_graph_models import initialize_sparse_L, normalize_sparse_L\n",
    "from algorithms_optimal import cvx_optimizer\n",
    "from utils import set_mkl_threads, assert_results\n",
    "from generative_opinions_models import define_set_opinions, standardize\n",
    "\n",
    "set_mkl_threads(16)\n",
    "\n"
   ]
  },
  {
   "cell_type": "markdown",
   "id": "266b024a",
   "metadata": {},
   "source": [
    "## Graph initialization"
   ]
  },
  {
   "cell_type": "code",
   "execution_count": 2,
   "id": "c79bec94",
   "metadata": {},
   "outputs": [],
   "source": [
    "from sklearn.preprocessing import normalize\n",
    "\n",
    "n = 50\n",
    "A_true = np.random.choice(3, size=(n, n))\n",
    "np.fill_diagonal(A_true, 0.)\n",
    "A_true = normalize(A_true, axis=1, norm='l1')\n",
    "\n",
    "I = np.identity(n)\n",
    "z_eq = np.random.uniform(size=(n, 1))\n",
    "s = (I + I-A_true) @ z_eq\n",
    "assert np.all((z_eq - np.linalg.inv(I + np.diag(A_true.sum(axis=1)) - A_true) @ s) < 1e-9)"
   ]
  },
  {
   "cell_type": "code",
   "execution_count": 8,
   "id": "0ea28fdd",
   "metadata": {},
   "outputs": [
    {
     "data": {
      "text/plain": [
       "array([[33.67495908]])"
      ]
     },
     "execution_count": 8,
     "metadata": {},
     "output_type": "execute_result"
    }
   ],
   "source": [
    "D_in = np.diag(A_true.sum(axis=0))\n",
    "s.T@s + s.T@D_in@s - 2*s.T@A_true@s"
   ]
  },
  {
   "cell_type": "code",
   "execution_count": 10,
   "id": "bcac2e57",
   "metadata": {},
   "outputs": [
    {
     "data": {
      "text/plain": [
       "array([33.67495908])"
      ]
     },
     "execution_count": 10,
     "metadata": {},
     "output_type": "execute_result"
    }
   ],
   "source": [
    "r = 0\n",
    "for i in range(n):\n",
    "    for j in range(n):\n",
    "        r += A_true[i, j] * (s[i]- s[j])**2\n",
    "r"
   ]
  },
  {
   "cell_type": "code",
   "execution_count": 3,
   "id": "34f5cbfa",
   "metadata": {},
   "outputs": [
    {
     "data": {
      "text/plain": [
       "array([[33.8096462]])"
      ]
     },
     "execution_count": 3,
     "metadata": {},
     "output_type": "execute_result"
    }
   ],
   "source": []
  },
  {
   "cell_type": "raw",
   "id": "c93b95dd",
   "metadata": {},
   "source": [
    "G2 = nx.from_numpy_array(A_true + A_true.T, create_using=nx.Graph)\n",
    "print(s.T @ nx.laplacian_matrix(G2) @ s, disagreement(G2, s))\n",
    "G = nx.from_numpy_array(A_true, create_using=nx.DiGraph)"
   ]
  },
  {
   "cell_type": "markdown",
   "id": "548ceeca",
   "metadata": {},
   "source": [
    "### Checking equilibrium formulas"
   ]
  },
  {
   "cell_type": "raw",
   "id": "1ba69472",
   "metadata": {},
   "source": [
    "# Checking equilibrium formulas\n",
    "D_out = np.diag(A_true.sum(axis=0))\n",
    "\n",
    "# 1. Disagreement\n",
    "def disagreement(G, z):\n",
    "    dis = 0\n",
    "    for u,v in G.edges():\n",
    "        dis += G.edges()[u, v]['weight'] * (z[u] - z[v])**2\n",
    "    return dis\n",
    "print(z_eq.T @ (I+D_out-2*A_true) @ z_eq/2, disagreement(G, z_eq)/2, z_eq.T @ nx.laplacian_matrix(G2) @ z_eq/2)\n",
    "\n",
    "# 2. Equilibrium\n",
    "z_initial = np.random.uniform(size=(n, 1))\n",
    "for _ in range(1000):\n",
    "    z_initial = np.linalg.inv(2*I) @ (A_true @ z_initial + I @ s) \n",
    "print('\\n', z_initial, '\\n\\n', z_eq)    "
   ]
  },
  {
   "cell_type": "markdown",
   "id": "5881afbd",
   "metadata": {},
   "source": [
    "# Gradients"
   ]
  },
  {
   "cell_type": "code",
   "execution_count": 915,
   "id": "f0c5062c",
   "metadata": {},
   "outputs": [],
   "source": [
    "def fAndG(A, s):\n",
    "    s = s.flatten()\n",
    "\n",
    "    T_0 = (2 * np.eye(A_cols, A_cols))\n",
    "    T_1 = np.linalg.inv((T_0 + -A))\n",
    "    t_2 = (T_1).dot(s)\n",
    "    t_3 = (np.linalg.inv((T_0 - A))).dot(s)\n",
    "    t_4 = (T_1).dot(((np.diag((A).dot(np.ones(A_cols))) - np.eye(A_cols, A_cols))).dot(t_3))\n",
    "    t_5 = (s).dot(T_1)\n",
    "    functionValue = ((s).dot(t_2) + (0.5 * (s).dot(t_4)))\n",
    "    gradient = (((np.outer(t_2, t_5) + (0.5 * np.outer(t_4, t_5))) + (0.5 * np.outer(np.ones(A_rows), (t_5 * t_5)))) + (0.5 * np.outer((T_1).dot(((np.diag((np.ones(A_cols)).dot(A)) - np.eye(A_cols, A_cols))).dot(t_3)), t_5)))\n",
    "\n",
    "    return gradient\n",
    "\n",
    "\n",
    "def fAndG4(A, s):\n",
    "    s = s.flatten()\n",
    "\n",
    "    T_0 = (2 * np.eye(A_cols, A_cols))\n",
    "    T_1 = np.linalg.inv((T_0 + -A.T))\n",
    "    t_2 = (T_1).dot(s)\n",
    "    t_3 = (np.linalg.inv((T_0 - A))).dot(s)\n",
    "    t_4 = (T_1).dot(((np.diag((A.T).dot(np.ones(A_cols))) - np.eye(A_cols, A_cols))).dot(t_3))\n",
    "    t_5 = (s).dot(T_1)\n",
    "    functionValue = ((s).dot(t_2) + (0.5 * (s).dot(t_4)))\n",
    "    gradient = (((np.outer(t_2, t_5) + (0.5 * np.outer(t_4, t_5))) + (0.5 * np.outer(np.ones(A_rows), (t_5 * t_5)))) + (0.5 * np.outer((T_1).dot(((np.diag((np.ones(A_cols)).dot(A)) - np.eye(A_cols, A_cols))).dot(t_3)), t_5)))\n",
    "\n",
    "    return functionValue, gradient\n",
    "\n",
    "def fAndG2(A, I, s):\n",
    "    \"\"\"s'*(inv(2*I-A))'*s + 0.5*s'*(inv(2*I-A))'*( diag(A'*vector(1)) - I )*inv(2*I-A)*s\"\"\"\n",
    "    s = s.flatten()\n",
    "\n",
    "    T_0 = np.linalg.inv(((2 * I) - A))\n",
    "    t_1 = (T_0.T).dot(s)\n",
    "    t_2 = (T_0).dot(s)\n",
    "    t_3 = (T_0.T).dot(((np.diag((A.T).dot(np.ones(I_rows))) - I)).dot(t_2))\n",
    "    functionValue = ((s).dot(t_1) + (0.5 * (s).dot(t_3)))\n",
    "    gradient = (((np.outer(t_1, t_2) + (0.5 * np.outer(t_3, t_2))) + (0.5 * np.outer(np.ones(A_rows), (t_2 * t_2)))) + (0.5 * np.outer((T_0.T).dot(((np.diag((np.ones(I_rows)).dot(A)) + -I.T)).dot(t_2)), t_2)))\n",
    "\n",
    "    return functionValue, gradient\n",
    "\n",
    "\n",
    "\n",
    "def fAndG3(A, I, s):\n",
    "    s = s.flatten()\n",
    "\n",
    "    T_0 = (2 * I)\n",
    "    T_1 = np.linalg.inv((T_0 + -A.T))\n",
    "    t_2 = (T_1).dot(s)\n",
    "    t_3 = (T_1).dot(((np.diag((A.T).dot(np.ones(I_rows))) - I)).dot((np.linalg.inv((T_0 - A))).dot(s)))\n",
    "    t_4 = (s).dot(T_1)\n",
    "    functionValue = ((s).dot(t_2) + (0.5 * (s).dot(t_3)))\n",
    "    gradient = (((np.outer(t_2, t_4) + (0.5 * np.outer(t_3, t_4))) + (0.5 * np.outer(np.ones(A_rows), (t_4 * t_4)))) + (0.5 * np.outer((T_1).dot(((np.diag((np.ones(I_rows)).dot(A)) - I)).dot((np.linalg.inv((T_0.T - A))).dot(s))), t_4)))\n",
    "\n",
    "    return functionValue, gradient"
   ]
  },
  {
   "cell_type": "raw",
   "id": "6bd4b42c",
   "metadata": {},
   "source": [
    "#1. all gradients are the same: we use the simpler one\n",
    "print(fAndG(A_true, s), fAndG2(A_true, I, s), fAndG3(A_true,I, s), fAndG4(A_true, s))"
   ]
  },
  {
   "cell_type": "code",
   "execution_count": 916,
   "id": "21fa318a",
   "metadata": {},
   "outputs": [],
   "source": [
    "def fAndG2(A, I, s):\n",
    "    \"\"\"s'*(inv(2*I-A))'*s + 0.5*s'*(inv(2*I-A))'*( diag(A'*vector(1)) - I )*inv(2*I-A)*s\"\"\"\n",
    "    s = s.flatten()\n",
    "    \n",
    "    assert isinstance(A, np.ndarray)\n",
    "    dim = A.shape\n",
    "    assert len(dim) == 2\n",
    "    A_rows = dim[0]\n",
    "    A_cols = dim[1]\n",
    "    assert isinstance(I, np.ndarray)\n",
    "    dim = I.shape\n",
    "    assert len(dim) == 2\n",
    "    I_rows = dim[0]\n",
    "    I_cols = dim[1]\n",
    "    assert isinstance(s, np.ndarray)\n",
    "    dim = s.shape\n",
    "    assert len(dim) == 1\n",
    "    s_rows = dim[0]\n",
    "    assert s_rows == I_cols == I_rows == A_rows == A_cols\n",
    "\n",
    "\n",
    "    T_0 = np.linalg.inv(((2 * I) - A))\n",
    "    t_1 = (T_0.T).dot(s)\n",
    "    t_2 = (T_0).dot(s)\n",
    "    t_3 = (T_0.T).dot(((np.diag((A.T).dot(np.ones(I_rows))) - I)).dot(t_2))\n",
    "    functionValue = ((s).dot(t_1) + (0.5 * (s).dot(t_3)))\n",
    "    gradient = (((np.outer(t_1, t_2) + (0.5 * np.outer(t_3, t_2))) + (0.5 * np.outer(np.ones(A_rows), (t_2 * t_2)))) + (0.5 * np.outer((T_0.T).dot(((np.diag((np.ones(I_rows)).dot(A)) + -I.T)).dot(t_2)), t_2)))\n",
    "\n",
    "    return gradient"
   ]
  },
  {
   "cell_type": "code",
   "execution_count": null,
   "id": "9d9b12c4",
   "metadata": {},
   "outputs": [],
   "source": []
  },
  {
   "cell_type": "code",
   "execution_count": 918,
   "id": "2963585d",
   "metadata": {},
   "outputs": [
    {
     "data": {
      "text/plain": [
       "True"
      ]
     },
     "execution_count": 918,
     "metadata": {},
     "output_type": "execute_result"
    }
   ],
   "source": [
    "# 2. we simplify gradient formula and test it\n",
    "def fAndG2_simpler(A, I, s):\n",
    "    Ω = np.linalg.inv(((2 * I) - A))\n",
    "    grad = Ω.T @ s\n",
    "    grad = grad @ s.T @ Ω.T\n",
    "    grad = grad + Ω.T @ (np.diag(A.sum(axis=0)) - I)@Ω@s@s.T@Ω.T\n",
    "    grad = grad + .5* np.ones((len(s),1)) @ (np.multiply(Ω@s,Ω@s)).T\n",
    "    return grad\n",
    "\n",
    "_grad1 = fAndG2(A_true, I, s)\n",
    "_grad2 = fAndG2_simpler(A_true, I, s)\n",
    "np.all(np.absolute(_grad1 - _grad2)<1e-6)"
   ]
  },
  {
   "cell_type": "code",
   "execution_count": 985,
   "id": "8e8c3b17",
   "metadata": {},
   "outputs": [
    {
     "data": {
      "text/plain": [
       "True"
      ]
     },
     "execution_count": 985,
     "metadata": {},
     "output_type": "execute_result"
    }
   ],
   "source": []
  },
  {
   "cell_type": "code",
   "execution_count": 969,
   "id": "033a12f1",
   "metadata": {},
   "outputs": [
    {
     "data": {
      "text/plain": [
       "True"
      ]
     },
     "execution_count": 969,
     "metadata": {},
     "output_type": "execute_result"
    }
   ],
   "source": [
    "# 3. we sparsify gradient formula and test it\n",
    "def fAndG2_fast(A, s, Is, Js, ε=1e-6):\n",
    "    \"\"\"Returns gradient data array\"\"\"\n",
    "\n",
    "    I = scipy.sparse.identity(len(s))\n",
    "    \n",
    "    z_1, _ = scipy.sparse.linalg.bicg(2*I-A.T, s, tol=ε)\n",
    "    z_1 = z_1.reshape((len(s), 1))\n",
    "    z_2, _ = scipy.sparse.linalg.bicg(2*I-A, s, tol=ε)\n",
    "    z_2 = z_2.reshape((len(s), 1))\n",
    "    grad = np.multiply(z_1[Is], z_2[Js]).flatten()\n",
    "    \n",
    "    z_3, _ =  scipy.sparse.linalg.bicg(2*I-A.T, (np.diag(A.sum(axis=0)) - I) @ z_2, tol=ε)\n",
    "    z_3 = z_3.reshape((len(s), 1))\n",
    "    grad = grad + np.multiply(z_3[Is], z_2[Js]).flatten()\n",
    "    grad = grad + .5 * (z_2**2)[Js].flatten()\n",
    "    return grad, z_2\n",
    "\n",
    "\n",
    "_grad2 = fAndG2_simpler(A_true, I, s)\n",
    "_grad2[A_true==0] = 0.\n",
    "\n",
    "Is, Js = np.nonzero(A_true)\n",
    "_grad3_data, z_2 = fAndG2_fast(A_true, s, Is, Js, 1e-9)\n",
    "_grad3 = scipy.sparse.csr_matrix(A_true)\n",
    "_grad3.data = _grad3_data\n",
    "np.all(np.absolute(_grad2 - _grad3.todense()) < 1e-9)\n"
   ]
  },
  {
   "cell_type": "markdown",
   "id": "dde882c0",
   "metadata": {},
   "source": [
    "# Experiments"
   ]
  },
  {
   "cell_type": "code",
   "execution_count": 970,
   "id": "1402d898",
   "metadata": {},
   "outputs": [
    {
     "data": {
      "text/plain": [
       "15.94235019390393"
      ]
     },
     "execution_count": 970,
     "metadata": {},
     "output_type": "execute_result"
    }
   ],
   "source": [
    "# 1. Upper bound\n",
    "\n",
    "def obj_f(z, A):\n",
    "    return (0.5*z.T @ (I + np.diag(np.array(A.sum(axis=0)).flatten()) - (A+A.T)) @ z + z.T @ z).item()\n",
    "UB = obj_f(z_eq, A_true)\n",
    "UB"
   ]
  },
  {
   "cell_type": "code",
   "execution_count": 979,
   "id": "9e5cd859",
   "metadata": {},
   "outputs": [
    {
     "data": {
      "text/plain": [
       "array([[1.02939723, 0.        , 0.        , ..., 0.        , 0.        ,\n",
       "        0.        ],\n",
       "       [0.        , 1.12582357, 0.        , ..., 0.        , 0.        ,\n",
       "        0.        ],\n",
       "       [0.        , 0.        , 1.06834897, ..., 0.        , 0.        ,\n",
       "        0.        ],\n",
       "       ...,\n",
       "       [0.        , 0.        , 0.        , ..., 0.66196242, 0.        ,\n",
       "        0.        ],\n",
       "       [0.        , 0.        , 0.        , ..., 0.        , 1.19897031,\n",
       "        0.        ],\n",
       "       [0.        , 0.        , 0.        , ..., 0.        , 0.        ,\n",
       "        1.13350693]])"
      ]
     },
     "execution_count": 979,
     "metadata": {},
     "output_type": "execute_result"
    }
   ],
   "source": [
    "np.diag(np.array(scipy.sparse.csr_matrix(A_true).sum(axis=0)).flatten())"
   ]
  },
  {
   "cell_type": "code",
   "execution_count": 971,
   "id": "9091cf25",
   "metadata": {},
   "outputs": [
    {
     "data": {
      "text/plain": [
       "1.1676515369426685"
      ]
     },
     "execution_count": 971,
     "metadata": {},
     "output_type": "execute_result"
    }
   ],
   "source": [
    "# 2. Baseline\n",
    "A_oppo_heur = np.zeros((n, n))\n",
    "for i in range(n):\n",
    "    for j in range(n):\n",
    "        if A_true[i, j] > 0:\n",
    "            A_oppo_heur[i, j] = (s[i]-s[j])**2\n",
    "A_oppo_heur = normalize(A_oppo_heur, axis=1, norm='l1')\n",
    "z_oppo_eq = np.linalg.inv(2*I - A_oppo_heur) @ s\n",
    "obj_f(z_oppo_eq, A_oppo_heur)/UB"
   ]
  },
  {
   "cell_type": "code",
   "execution_count": 972,
   "id": "d1805957",
   "metadata": {},
   "outputs": [],
   "source": [
    "z, _ = scipy.sparse.linalg.bicg(2*I-A_true, s, tol=1e-3)"
   ]
  },
  {
   "cell_type": "code",
   "execution_count": 973,
   "id": "7506b9b0",
   "metadata": {
    "scrolled": true
   },
   "outputs": [
    {
     "name": "stdout",
     "output_type": "stream",
     "text": [
      "15.896678439795924 inf\n",
      "0, obj/UB=99.714, -0.0 1.0 0.3\n",
      "15.896678439795924 15.896678439795924\n",
      "1, obj/UB=99.428, -0.0 1.0 0.3\n",
      "15.851127759632478 15.851127759632478\n",
      "2, obj/UB=99.143, -0.0 1.0 0.3\n",
      "15.80570059122595 15.80570059122595\n",
      "3, obj/UB=98.859, -0.0 1.0 0.3\n",
      "15.76039932879457 15.76039932879457\n",
      "4, obj/UB=98.575, -0.0 1.0 0.3\n",
      "15.715226322981103 15.715226322981103\n",
      "5, obj/UB=98.293, -0.0 1.0 0.3\n",
      "15.670183880883283 15.670183880883283\n",
      "6, obj/UB=98.011, -0.0 1.0 0.3\n",
      "15.625274266112495 15.625274266112495\n",
      "7, obj/UB=97.730, -0.0 1.0 0.3\n",
      "15.580499698863006 15.580499698863006\n",
      "8, obj/UB=97.450, -0.0 1.0 0.3\n",
      "15.535862356003463 15.535862356003463\n",
      "9, obj/UB=97.171, -0.0 1.0 0.3\n",
      "15.491364371184497 15.491364371184497\n",
      "10, obj/UB=96.893, -0.0 1.0 0.3\n",
      "15.447007834962971 15.447007834962971\n",
      "11, obj/UB=96.616, -0.0 1.0 0.3\n",
      "15.402794794942377 15.402794794942377\n",
      "12, obj/UB=96.339, -0.0 1.0 0.3\n",
      "15.35872725592866 15.35872725592866\n",
      "13, obj/UB=96.064, -0.0 1.0 0.3\n",
      "15.314807180101052 15.314807180101052\n",
      "14, obj/UB=95.789, -0.0 1.0 0.3\n",
      "15.271036487197263 15.271036487197263\n",
      "15, obj/UB=95.516, -0.0 1.0 0.3\n",
      "15.227417054712436 15.227417054712436\n",
      "16, obj/UB=95.243, -0.0 1.0 0.3\n",
      "15.183950718111452 15.183950718111452\n",
      "17, obj/UB=94.971, -0.0 1.0 0.3\n",
      "15.140639271053832 15.140639271053832\n",
      "18, obj/UB=94.700, -0.0 1.0 0.3\n",
      "15.097484465630886 15.097484465630886\n",
      "19, obj/UB=94.431, -0.0 1.0 0.3\n",
      "15.054488012614472 15.054488012614472\n",
      "20, obj/UB=94.162, -0.0 1.0 0.3\n",
      "15.011651581716793 15.011651581716793\n",
      "21, obj/UB=93.894, -0.0 1.0 0.3\n",
      "14.968976801860887 14.968976801860887\n",
      "22, obj/UB=93.628, -0.0 1.0 0.3\n",
      "14.926465261461125 14.926465261461125\n",
      "23, obj/UB=93.362, -0.0 1.0 0.3\n",
      "14.884118508713277 14.884118508713277\n",
      "24, obj/UB=93.098, -0.0 1.0 0.3\n",
      "14.841938051893713 14.841938051893713\n",
      "25, obj/UB=92.834, -0.0 1.0 0.3\n",
      "14.799925359667107 14.799925359667107\n",
      "26, obj/UB=92.572, -0.0 1.0 0.3\n",
      "14.758081861402404 14.758081861402404\n",
      "27, obj/UB=92.310, -0.0 1.0 0.3\n",
      "14.71640894749634 14.71640894749634\n",
      "28, obj/UB=92.050, -0.0 1.0 0.3\n",
      "14.674907969704204 14.674907969704204\n",
      "29, obj/UB=91.791, -0.0 1.0 0.3\n",
      "14.633580241477441 14.633580241477441\n",
      "30, obj/UB=91.532, -0.0 1.0 0.3\n",
      "14.592427038307484 14.592427038307484\n",
      "31, obj/UB=91.275, -0.0 1.0 0.3\n",
      "14.551449598075575 14.551449598075575\n",
      "32, obj/UB=91.020, -0.0 1.0 0.3\n",
      "14.510649121408132 14.510649121408132\n",
      "33, obj/UB=90.765, -0.0 1.0 0.3\n",
      "14.47002677203712 14.47002677203712\n",
      "34, obj/UB=90.511, -0.0 1.0 0.3\n",
      "14.429583677165253 14.429583677165253\n",
      "35, obj/UB=90.258, -0.0 1.0 0.3\n",
      "14.389320927835492 14.389320927835492\n",
      "36, obj/UB=90.007, -0.0 1.0 0.3\n",
      "14.349239579304522 14.349239579304522\n",
      "37, obj/UB=89.757, -0.0 1.0 0.3\n",
      "14.309340651419893 14.309340651419893\n",
      "38, obj/UB=89.508, -0.0 1.0 0.3\n",
      "14.269625129000381 14.269625129000381\n",
      "39, obj/UB=89.260, -0.0 1.0 0.3\n",
      "14.230093962219383 14.230093962219383\n",
      "40, obj/UB=89.013, -0.0 1.0 0.3\n",
      "14.190748066990825 14.190748066990825\n",
      "41, obj/UB=88.767, -0.0 1.0 0.3\n",
      "14.15158832535752 14.15158832535752\n",
      "42, obj/UB=88.523, -0.0 1.0 0.3\n",
      "14.112615585881413 14.112615585881413\n",
      "43, obj/UB=88.280, -0.0 1.0 0.3\n",
      "14.073830664035615 14.073830664035615\n",
      "44, obj/UB=88.037, -0.0 1.0 0.3\n",
      "14.035234342597882 14.035234342597882\n",
      "45, obj/UB=87.797, -0.0 1.0 0.3\n",
      "13.996827372045557 13.996827372045557\n",
      "46, obj/UB=87.557, -0.0 1.0 0.3\n",
      "13.9586104709502 13.9586104709502\n",
      "47, obj/UB=87.318, -0.0 1.0 0.3\n",
      "13.920584326374389 13.920584326374389\n",
      "48, obj/UB=87.081, -0.0 1.0 0.3\n",
      "13.882749594268859 13.882749594268859\n",
      "49, obj/UB=86.845, -0.0 1.0 0.3\n",
      "13.845106899868481 13.845106899868481\n",
      "50, obj/UB=86.610, -0.0 1.0 0.3\n",
      "13.807656838089422 13.807656838089422\n",
      "51, obj/UB=86.376, -0.0 1.0 0.3\n",
      "13.770399973925622 13.770399973925622\n",
      "52, obj/UB=86.144, -0.0 1.0 0.3\n",
      "13.73333684284496 13.73333684284496\n",
      "53, obj/UB=85.912, -0.0 1.0 0.3\n",
      "13.696467951184669 13.696467951184669\n",
      "54, obj/UB=85.682, -0.0 1.0 0.3\n",
      "13.659793776545998 13.659793776545998\n",
      "55, obj/UB=85.454, -0.0 1.0 0.3\n",
      "13.6233147681879 13.6233147681879\n",
      "56, obj/UB=85.226, -0.0 1.0 0.3\n",
      "13.587031347419469 13.587031347419469\n",
      "57, obj/UB=85.000, -0.0 1.0 0.3\n",
      "13.55094390799118 13.55094390799118\n",
      "58, obj/UB=84.775, -0.0 1.0 0.3\n",
      "13.515052816484562 13.515052816484562\n",
      "59, obj/UB=84.551, -0.0 1.0 0.3\n",
      "13.479362815987335 13.479362815987335\n",
      "60, obj/UB=84.329, -0.0 1.0 0.3\n",
      "13.443970257841185 13.443970257841185\n",
      "61, obj/UB=84.108, -0.0 1.0 0.3\n",
      "13.40877460702444 13.40877460702444\n",
      "62, obj/UB=83.888, -0.0 1.0 0.3\n",
      "13.37377611078142 13.37377611078142\n",
      "63, obj/UB=83.670, -0.0 1.0 0.3\n",
      "13.338974991295938 13.338974991295938\n",
      "64, obj/UB=83.455, -0.0 1.0 0.3\n",
      "13.30471370089833 13.30471370089833\n",
      "65, obj/UB=83.242, -0.0 1.0 0.3\n",
      "13.270748178580554 13.270748178580554\n",
      "66, obj/UB=83.032, -0.0 1.0 0.3\n",
      "13.237278637452894 13.237278637452894\n",
      "67, obj/UB=82.825, -0.0 1.0 0.3\n",
      "13.20417459456592 13.20417459456592\n",
      "68, obj/UB=82.619, -0.0 1.0 0.3\n",
      "13.171415037569556 13.171415037569556\n",
      "69, obj/UB=82.417, -0.0 1.0 0.3\n",
      "13.139200346315624 13.139200346315624\n",
      "70, obj/UB=82.217, -0.0 1.0 0.3\n",
      "13.107381832550672 13.107381832550672\n",
      "71, obj/UB=82.020, -0.0 1.0 0.3\n",
      "13.075953997784788 13.075953997784788\n",
      "72, obj/UB=81.826, -0.0 1.0 0.3\n",
      "13.045024042449933 13.045024042449933\n",
      "73, obj/UB=81.637, -0.0 1.0 0.3\n",
      "13.014846391908812 13.014846391908812\n",
      "74, obj/UB=81.452, -0.0 1.0 0.3\n",
      "12.985307060214627 12.985307060214627\n",
      "75, obj/UB=81.272, -0.0 1.0 0.3\n",
      "12.956604656761058 12.956604656761058\n",
      "76, obj/UB=81.095, -0.0 1.0 0.3\n",
      "12.92847293273704 12.92847293273704\n",
      "77, obj/UB=80.921, -0.0 1.0 0.3\n",
      "12.900678804514687 12.900678804514687\n",
      "78, obj/UB=80.749, -0.0 1.0 0.3\n",
      "12.87328705246235 12.87328705246235\n",
      "79, obj/UB=80.580, -0.0 1.0 0.3\n",
      "12.846289678209224 12.846289678209224\n",
      "80, obj/UB=80.412, -0.0 1.0 0.3\n",
      "12.819491060875666 12.819491060875666\n",
      "81, obj/UB=80.246, -0.0 1.0 0.3\n",
      "12.793031673818247 12.793031673818247\n",
      "82, obj/UB=80.083, -0.0 1.0 0.3\n",
      "12.767115326052641 12.767115326052641\n",
      "83, obj/UB=79.925, -0.0 1.0 0.3\n",
      "12.741931008344089 12.741931008344089\n",
      "84, obj/UB=79.769, -0.0 1.0 0.3\n",
      "12.717016563532702 12.717016563532702\n",
      "85, obj/UB=79.616, -0.0 1.0 0.3\n",
      "12.692627599968832 12.692627599968832\n",
      "86, obj/UB=79.466, -0.0 1.0 0.3\n",
      "12.668774668337594 12.668774668337594\n",
      "87, obj/UB=79.318, -0.0 1.0 0.3\n",
      "12.64520685685919 12.64520685685919\n",
      "88, obj/UB=79.172, -0.0 1.0 0.3\n",
      "12.621890718354488 12.621890718354488\n",
      "89, obj/UB=79.028, -0.0 1.0 0.3\n",
      "12.598895911268077 12.598895911268077\n",
      "90, obj/UB=78.886, -0.0 1.0 0.3\n",
      "12.576262665402055 12.576262665402055\n",
      "91, obj/UB=78.747, -0.0 1.0 0.3\n",
      "12.554087182473886 12.554087182473886\n",
      "92, obj/UB=78.610, -0.0 1.0 0.3\n",
      "12.532252823843567 12.532252823843567\n",
      "93, obj/UB=78.475, -0.0 1.0 0.3\n",
      "12.510794833558025 12.510794833558025\n",
      "94, obj/UB=78.342, -0.0 1.0 0.3\n",
      "12.489515076354799 12.489515076354799\n",
      "95, obj/UB=78.209, -0.0 1.0 0.3\n",
      "12.46842001174583 12.46842001174583\n",
      "96, obj/UB=78.079, -0.0 1.0 0.3\n",
      "12.447605713151448 12.447605713151448\n",
      "97, obj/UB=77.950, -0.0 1.0 0.3\n",
      "12.427001510926207 12.427001510926207\n",
      "98, obj/UB=77.821, -0.0 1.0 0.3\n",
      "12.406528901577907 12.406528901577907\n",
      "99, obj/UB=77.694, -0.0 1.0 0.3\n"
     ]
    }
   ],
   "source": [
    "A = scipy.sparse.csr_matrix(A_true)\n",
    "Is, Js = np.nonzero(A)\n",
    "obj_prev = np.inf\n",
    "\n",
    "for i in range(100):\n",
    "    print(obj, obj_prev)\n",
    "    _grad3_data, z_2 = fAndG2_fast(A, s, Is, Js, 1e-9)\n",
    "    \n",
    "    A.data = A.data - .00002 * _grad3_data\n",
    "    A.data[A.data<0] = 0\n",
    "    #print(A.todense(),\"\\n\",  A_true)\n",
    "    A = normalize(A, axis=1, norm='l1')\n",
    "\n",
    "\n",
    "    z_eq_curr = np.linalg.inv(2*I - A.todense()) @ s\n",
    "    obj = obj_f(z_eq_curr, np.array(A.todense()))\n",
    "    \n",
    "    if obj <= 0 or np.isnan(obj) or obj > obj_prev:\n",
    "        print(\"break\", obj <= 0, np.isnan(obj), obj >= obj_prev, obj_prev, obj)\n",
    "        break\n",
    "    obj_prev = obj\n",
    "    print(f\"{i}, obj/UB={obj/UB*100:.3f}, {np.min(grad):.1f} {np.max(grad):.1f} {np.mean(grad):.1f}\")"
   ]
  },
  {
   "cell_type": "code",
   "execution_count": 870,
   "id": "e5fa1319",
   "metadata": {},
   "outputs": [
    {
     "data": {
      "text/plain": [
       "106.91032782629085"
      ]
     },
     "execution_count": 870,
     "metadata": {},
     "output_type": "execute_result"
    }
   ],
   "source": [
    "obj"
   ]
  },
  {
   "cell_type": "code",
   "execution_count": null,
   "id": "8e4c7004",
   "metadata": {},
   "outputs": [],
   "source": []
  },
  {
   "cell_type": "code",
   "execution_count": null,
   "id": "46d6afb9",
   "metadata": {},
   "outputs": [],
   "source": []
  },
  {
   "cell_type": "code",
   "execution_count": null,
   "id": "80f5f2d6",
   "metadata": {},
   "outputs": [],
   "source": []
  },
  {
   "cell_type": "code",
   "execution_count": null,
   "id": "e1440e03",
   "metadata": {},
   "outputs": [],
   "source": []
  },
  {
   "cell_type": "markdown",
   "id": "e45ec16e",
   "metadata": {},
   "source": [
    "----"
   ]
  },
  {
   "cell_type": "code",
   "execution_count": 31,
   "id": "5884cca4",
   "metadata": {},
   "outputs": [
    {
     "name": "stdout",
     "output_type": "stream",
     "text": [
      "*Top users by memory usage:*\n",
      "```          %MEM\n",
      "USER          \n",
      "apotra    26.3\n",
      "guidoba+  17.1\n",
      "spoetto    7.2\n",
      "tlancia+   6.3\n",
      "alberto+   5.8\n",
      "andreac+   2.9\n",
      "yanxia     2.7\n",
      "corrado    1.8\n",
      "fcinus     1.7\n",
      "leitao     1.3\n",
      "jacopo.+   0.6```\n"
     ]
    },
    {
     "name": "stderr",
     "output_type": "stream",
     "text": [
      "/tmp/ipykernel_2083992/4021794878.py:22: FutureWarning: The default value of numeric_only in DataFrameGroupBy.sum is deprecated. In a future version, numeric_only will default to False. Either specify numeric_only or select only columns which should be valid for the function.\n",
      "  df = pd.DataFrame(data, columns=columns).groupby('USER').sum().sort_values('%MEM', ascending=False)\n"
     ]
    }
   ],
   "source": [
    "# CHECK MEMORY USAGE\n",
    "import subprocess\n",
    "import re\n",
    "import pandas as pd\n",
    "\n",
    "def mem():\n",
    "\n",
    "    cmd = subprocess.check_output(\"\"\"top -bn 1 -o RES | grep -E \"^( |[0-9])\" | awk '{ printf(\"%-8s  %-8s  %-8s\\\\n\", $2, $9, $10); }'\"\"\",\n",
    "                              shell=True, universal_newlines=True)\n",
    "    cmd = cmd.split('\\n')\n",
    "\n",
    "    data = []\n",
    "    for line in cmd[1:]:\n",
    "        if line == '':\n",
    "            continue\n",
    "        user, pcpu, pmem = re.split(r'\\s+', line.strip())\n",
    "        #print(pmem)\n",
    "        #pmem = pmem.split(',')[0] +'.'+ pmem.split(',')\n",
    "        data.append([user, pcpu, float(pmem)])\n",
    "\n",
    "    columns = re.split(r'\\s+', cmd[0].strip())\n",
    "    df = pd.DataFrame(data, columns=columns).groupby('USER').sum().sort_values('%MEM', ascending=False)\n",
    "    df = df[(df.index != 'root') & (df['%MEM'] >= 0.5)]\n",
    "\n",
    "    msg =  \"*Top users by memory usage:*\\n```\" + df.to_string() + '```'\n",
    "    return msg\n",
    "\n",
    "print(mem())"
   ]
  },
  {
   "cell_type": "code",
   "execution_count": null,
   "id": "e9fa2d11",
   "metadata": {},
   "outputs": [],
   "source": []
  },
  {
   "cell_type": "code",
   "execution_count": null,
   "id": "a6a671cc",
   "metadata": {},
   "outputs": [],
   "source": []
  }
 ],
 "metadata": {
  "kernelspec": {
   "display_name": "feedsrankenv",
   "language": "python",
   "name": "feedsrankenv"
  },
  "language_info": {
   "codemirror_mode": {
    "name": "ipython",
    "version": 3
   },
   "file_extension": ".py",
   "mimetype": "text/x-python",
   "name": "python",
   "nbconvert_exporter": "python",
   "pygments_lexer": "ipython3",
   "version": "3.10.4"
  }
 },
 "nbformat": 4,
 "nbformat_minor": 5
}
