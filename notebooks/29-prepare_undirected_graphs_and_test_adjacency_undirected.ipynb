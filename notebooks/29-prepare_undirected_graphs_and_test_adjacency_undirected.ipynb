{
 "cells": [
  {
   "cell_type": "code",
   "execution_count": 74,
   "id": "3ef0b948",
   "metadata": {},
   "outputs": [],
   "source": [
    "import networkx as nx\n",
    "import sys\n",
    "import os\n",
    "sys.path.append('./src')\n",
    "from generative_graph_models import make_doubly_stochastic"
   ]
  },
  {
   "cell_type": "code",
   "execution_count": 57,
   "id": "23a1d628",
   "metadata": {},
   "outputs": [],
   "source": [
    "# CS Aarhus\n",
    "with open(\"./datasets/graphs/undirected/real_small/cs_aarhus.txt\", \"w\") as file:\n",
    "    with open(\"./datasets/graphs/undirected/real_small/sp_office.txt\", \"r\") as file2:\n",
    "        for line in file2.readlines():\n",
    "            _time, u, v = line.split(\" \")\n",
    "            file.write(f\"{u}, {v}, {w}\")"
   ]
  },
  {
   "cell_type": "code",
   "execution_count": 71,
   "id": "7d0ed26c",
   "metadata": {},
   "outputs": [],
   "source": [
    "g = {}\n",
    "with open(\"./datasets/graphs/undirected/real_small/multigraph_hashAnonymized.csv\", \"r\") as file2:\n",
    "    for i, line in enumerate(file2.readlines()):\n",
    "        if i != 0:\n",
    "            u, v = line.split(\",\")[:2]\n",
    "            u = int(u)\n",
    "            v = int(v)\n",
    "            if (u, v) not in g:\n",
    "                g[(u, v)] = 1\n",
    "            else:\n",
    "                g[(u, v)] += 1\n",
    "            \n",
    "with open(\"./datasets/graphs/undirected/real_small/students.txt\", \"w\") as file:\n",
    "    for (u, v), w in g.items():\n",
    "        file.write(f\"{u}, {v}, {w}\\n\")"
   ]
  },
  {
   "cell_type": "code",
   "execution_count": 76,
   "id": "4eb3895f",
   "metadata": {},
   "outputs": [
    {
     "name": "stderr",
     "output_type": "stream",
     "text": [
      "/tmp/ipykernel_1057310/274678291.py:7: FutureWarning: adjacency_matrix will return a scipy.sparse array instead of a matrix in Networkx 3.0.\n",
      "  A = nx.adjacency_matrix(G)\n"
     ]
    }
   ],
   "source": [
    "#nx.florentine_families_graph() weighted: moreno_beach_beach, cs_aarhus, students\n",
    "for name in [\"moreno_beach_beach\", \"cs_aarhus\", \"students\"]:\n",
    "    path = f\"./datasets/graphs/undirected/real_small/{name}/\"\n",
    "    os.makedirs(path, exist_ok=True)\n",
    "    G = nx.read_weighted_edgelist(f\"./datasets/graphs/undirected/real_small/{name}.txt\")\n",
    "    assert not G.is_directed()\n",
    "    A = nx.adjacency_matrix(G)\n",
    "    A_norm = make_doubly_stochastic(A)\n",
    "    nx.write_graphml(G, path+f\"{name}.graphml\")"
   ]
  },
  {
   "cell_type": "code",
   "execution_count": 77,
   "id": "de9eafd8",
   "metadata": {},
   "outputs": [],
   "source": [
    "G = nx.read_graphml(path+f\"{name}.graphml\")\n",
    "G = nx.relabel_nodes(G, {u: i for i, u in enumerate(G.nodes())})"
   ]
  }
 ],
 "metadata": {
  "kernelspec": {
   "display_name": "feedsrankenv",
   "language": "python",
   "name": "feedsrankenv"
  },
  "language_info": {
   "codemirror_mode": {
    "name": "ipython",
    "version": 3
   },
   "file_extension": ".py",
   "mimetype": "text/x-python",
   "name": "python",
   "nbconvert_exporter": "python",
   "pygments_lexer": "ipython3",
   "version": "3.10.4"
  }
 },
 "nbformat": 4,
 "nbformat_minor": 5
}
