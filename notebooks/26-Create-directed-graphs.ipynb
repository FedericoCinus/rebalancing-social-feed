{
 "cells": [
  {
   "cell_type": "code",
   "execution_count": 3,
   "id": "8596563d",
   "metadata": {},
   "outputs": [],
   "source": [
    "import networkx as nx\n",
    "import numpy as np\n",
    "\n",
    "def rndm(a, b, g, size=1):\n",
    "    \"\"\"Power-law gen for pdf(x)\\propto x^{g-1} for a<=x<=b\"\"\"\n",
    "    r = np.random.random(size=size)\n",
    "    ag, bg = a**g, b**g\n",
    "    return (ag + (bg - ag)*r)**(1./g)"
   ]
  },
  {
   "cell_type": "code",
   "execution_count": 4,
   "id": "35bd7832",
   "metadata": {},
   "outputs": [],
   "source": [
    "def stochastic_block_model_graph2(n: int, β=.05, directed: bool=False):\n",
    "    '''Returns nx.Graph according to stochastic_block_model\n",
    "    '''\n",
    "    N = 100\n",
    "    i = 0\n",
    "    lengths = []\n",
    "    is_connected = False\n",
    "    sizes = [int(n*.55), n-int(n*.55)]\n",
    "    α, β = (16/n, 2/n*β)\n",
    "    probs = np.array([[α, β], \n",
    "                      [β, α]])\n",
    "    while not is_connected:\n",
    "        print(f\"   SBM generation {i}/{N}, n components: {len(lengths)}\", end='\\r')\n",
    "        G = nx.stochastic_block_model(sizes, probs, directed=directed)\n",
    "        is_connected = nx.is_weakly_connected(G) if directed else nx.is_connected(G)\n",
    "        components = nx.weakly_connected_components(G) if directed else nx.connected_components(G)\n",
    "        lengths = [len(c) for c in sorted(components, key=len, reverse=True)]\n",
    "        i += 1\n",
    "        if i > N:\n",
    "            print(f\"   reached max iterations in SBM {i}/{N}\")\n",
    "            break\n",
    "    return G"
   ]
  },
  {
   "cell_type": "code",
   "execution_count": 16,
   "id": "c411b306",
   "metadata": {
    "scrolled": true
   },
   "outputs": [
    {
     "name": "stdout",
     "output_type": "stream",
     "text": [
      "   SBM generation 0/100, components: []\r",
      "CPU times: user 6.24 ms, sys: 3.97 ms, total: 10.2 ms\n",
      "Wall time: 9.73 ms\n"
     ]
    },
    {
     "data": {
      "text/plain": [
       "8.0"
      ]
     },
     "execution_count": 16,
     "metadata": {},
     "output_type": "execute_result"
    }
   ],
   "source": [
    "%%time\n",
    "n = 100\n",
    "α, β = (16/n, 2/n*.1)\n",
    "G = stochastic_block_model_graph2(n, α, β, True)\n",
    "G.number_of_edges()/(G.number_of_nodes()*(G.number_of_nodes()-1))*100"
   ]
  },
  {
   "cell_type": "code",
   "execution_count": 60,
   "id": "b4c3a6e8",
   "metadata": {},
   "outputs": [
    {
     "name": "stdout",
     "output_type": "stream",
     "text": [
      "   SBM generation 0/100, components: []\r",
      "CPU times: user 742 ms, sys: 32 ms, total: 774 ms\n",
      "Wall time: 768 ms\n"
     ]
    }
   ],
   "source": [
    "%%time\n",
    "G = stochastic_block_model_graph(100, True)"
   ]
  },
  {
   "cell_type": "code",
   "execution_count": 43,
   "id": "e72d3765",
   "metadata": {},
   "outputs": [
    {
     "name": "stderr",
     "output_type": "stream",
     "text": [
      "\n",
      "KeyboardInterrupt\n",
      "\n"
     ]
    }
   ],
   "source": [
    "%%time\n",
    "n, p = (25000, .05) \n",
    "G = nx.fast_gnp_random_graph(n, p, directed=True)"
   ]
  },
  {
   "cell_type": "code",
   "execution_count": null,
   "id": "835caca7",
   "metadata": {},
   "outputs": [],
   "source": [
    "%%time\n",
    "G = nx.scale_free_graph(10000).to_directed()"
   ]
  },
  {
   "cell_type": "markdown",
   "id": "9391624a",
   "metadata": {},
   "source": [
    "# Real graphs"
   ]
  },
  {
   "cell_type": "code",
   "execution_count": 67,
   "id": "f8f1bd02",
   "metadata": {},
   "outputs": [],
   "source": [
    "file = \"datasets/graphs/directed/real_large/ego-twitter/ego-twitter\"\n",
    "G = nx.read_edgelist(file, create_using=nx.DiGraph)"
   ]
  },
  {
   "cell_type": "code",
   "execution_count": 70,
   "id": "7bd7bb50",
   "metadata": {},
   "outputs": [],
   "source": [
    "G = nx.convert_node_labels_to_integers(G)"
   ]
  },
  {
   "cell_type": "code",
   "execution_count": 72,
   "id": "9515e478",
   "metadata": {},
   "outputs": [
    {
     "data": {
      "text/plain": [
       "23370"
      ]
     },
     "execution_count": 72,
     "metadata": {},
     "output_type": "execute_result"
    }
   ],
   "source": [
    "G.number_of_nodes()"
   ]
  }
 ],
 "metadata": {
  "kernelspec": {
   "display_name": "feedsrankenv",
   "language": "python",
   "name": "feedsrankenv"
  },
  "language_info": {
   "codemirror_mode": {
    "name": "ipython",
    "version": 3
   },
   "file_extension": ".py",
   "mimetype": "text/x-python",
   "name": "python",
   "nbconvert_exporter": "python",
   "pygments_lexer": "ipython3",
   "version": "3.10.4"
  }
 },
 "nbformat": 4,
 "nbformat_minor": 5
}
