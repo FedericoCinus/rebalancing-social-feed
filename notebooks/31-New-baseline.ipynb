{
 "cells": [
  {
   "cell_type": "code",
   "execution_count": 8,
   "id": "8d81bdb5",
   "metadata": {},
   "outputs": [],
   "source": [
    "import numpy as np\n",
    "import scipy\n",
    "from sklearn.preprocessing import normalize"
   ]
  },
  {
   "cell_type": "code",
   "execution_count": 14,
   "id": "dd0c9377",
   "metadata": {},
   "outputs": [],
   "source": [
    "n = 10\n",
    "A = np.random.uniform(0, 7, (n, n)) * np.random.randint(0, 2, (n, n))\n",
    "A = normalize(A, axis=1, norm=\"l1\")\n",
    "A = scipy.sparse.csr_matrix(A)\n",
    "s = np.random.uniform(0, 1, (n, 1))"
   ]
  },
  {
   "cell_type": "code",
   "execution_count": 24,
   "id": "6dd237b3",
   "metadata": {},
   "outputs": [],
   "source": [
    "def neutral_view_heuristic_dir(A, s: np.matrix, verbosity: int = 0):\n",
    "    Is, Js = np.nonzero(A)\n",
    "    A_neutral_heur = A.copy()\n",
    "    A_neutral_heur.data = np.array(1/np.absolute(s[Js])).flatten()**2\n",
    "   \n",
    "    # make row-stochastic\n",
    "    A_neutral_heur = normalize(A_neutral_heur, axis=1, norm='l1')\n",
    "    \n",
    "    return A_neutral_heur, [], None"
   ]
  },
  {
   "cell_type": "code",
   "execution_count": 25,
   "id": "f7b33cfd",
   "metadata": {},
   "outputs": [
    {
     "data": {
      "text/plain": [
       "(<10x10 sparse matrix of type '<class 'numpy.float64'>'\n",
       " \twith 45 stored elements in Compressed Sparse Row format>,\n",
       " [],\n",
       " None)"
      ]
     },
     "execution_count": 25,
     "metadata": {},
     "output_type": "execute_result"
    }
   ],
   "source": [
    "neutral_view_heuristic_dir(A, s)"
   ]
  },
  {
   "cell_type": "code",
   "execution_count": 22,
   "id": "9d8f08d5",
   "metadata": {},
   "outputs": [
    {
     "name": "stdout",
     "output_type": "stream",
     "text": [
      "*Top users by memory usage:*\n",
      "```          %MEM\n",
      "USER          \n",
      "apotra    29.8\n",
      "guidoba+  16.5\n",
      "fcinus     3.0\n",
      "corrado    2.5\n",
      "jacopo.+   2.2\n",
      "andreac+   2.2\n",
      "spoetto    1.8\n",
      "yanxia     1.2```\n"
     ]
    },
    {
     "name": "stderr",
     "output_type": "stream",
     "text": [
      "/tmp/ipykernel_735510/1811591593.py:21: FutureWarning: The default value of numeric_only in DataFrameGroupBy.sum is deprecated. In a future version, numeric_only will default to False. Either specify numeric_only or select only columns which should be valid for the function.\n",
      "  df = pd.DataFrame(data, columns=columns).groupby('USER').sum().sort_values('%MEM', ascending=False)\n"
     ]
    }
   ],
   "source": [
    "# CHECK MEMORY USAGE\n",
    "import subprocess\n",
    "import re\n",
    "import pandas as pd\n",
    "\n",
    "def mem():\n",
    "\n",
    "    cmd = subprocess.check_output(\"\"\"top -bn 1 -o RES | grep -E \"^( |[0-9])\" | awk '{ printf(\"%-8s  %-8s  %-8s\\\\n\", $2, $9, $10); }'\"\"\",\n",
    "                              shell=True, universal_newlines=True)\n",
    "    cmd = cmd.split('\\n')\n",
    "\n",
    "    data = []\n",
    "    for line in cmd[1:]:\n",
    "        if line == '':\n",
    "            continue\n",
    "        user, pcpu, pmem = re.split(r'\\s+', line.strip())\n",
    "        pmem = pmem.split(',')[0] #+'.'+ pmem.split(',')[1] \n",
    "        data.append([user, pcpu, float(pmem)])\n",
    "\n",
    "    columns = re.split(r'\\s+', cmd[0].strip())\n",
    "    df = pd.DataFrame(data, columns=columns).groupby('USER').sum().sort_values('%MEM', ascending=False)\n",
    "    df = df[(df.index != 'root') & (df['%MEM'] >= 0.5)]\n",
    "\n",
    "    msg =  \"*Top users by memory usage:*\\n```\" + df.to_string() + '```'\n",
    "    return msg\n",
    "\n",
    "print(mem())"
   ]
  },
  {
   "cell_type": "code",
   "execution_count": 23,
   "id": "1f10acde",
   "metadata": {},
   "outputs": [],
   "source": [
    "import numpy as np"
   ]
  },
  {
   "cell_type": "code",
   "execution_count": 26,
   "id": "b387e02c",
   "metadata": {},
   "outputs": [],
   "source": [
    "s = np.matrix([1,2,3]).reshape(3, 1)"
   ]
  },
  {
   "cell_type": "code",
   "execution_count": 32,
   "id": "49d98d34",
   "metadata": {},
   "outputs": [
    {
     "data": {
      "text/plain": [
       "matrix([[1., 4., 9.],\n",
       "        [1., 4., 9.],\n",
       "        [1., 4., 9.]])"
      ]
     },
     "execution_count": 32,
     "metadata": {},
     "output_type": "execute_result"
    }
   ],
   "source": [
    "np.ones((3,1))@np.multiply(s, s).T"
   ]
  },
  {
   "cell_type": "code",
   "execution_count": 47,
   "id": "07a4aba7",
   "metadata": {},
   "outputs": [
    {
     "data": {
      "text/plain": [
       "matrix([[1, 2, 3],\n",
       "        [2, 4, 6],\n",
       "        [3, 6, 9]])"
      ]
     },
     "execution_count": 47,
     "metadata": {},
     "output_type": "execute_result"
    }
   ],
   "source": [
    "s@s.T"
   ]
  },
  {
   "cell_type": "code",
   "execution_count": 46,
   "id": "b6d9fbc5",
   "metadata": {},
   "outputs": [
    {
     "data": {
      "text/plain": [
       "matrix([[2, 4, 6]])"
      ]
     },
     "execution_count": 46,
     "metadata": {},
     "output_type": "execute_result"
    }
   ],
   "source": [
    "s[1]@s.T"
   ]
  },
  {
   "cell_type": "code",
   "execution_count": 38,
   "id": "299b3c17",
   "metadata": {},
   "outputs": [],
   "source": [
    "def fAndG(A, s):\n",
    "    assert isinstance(A, np.ndarray)\n",
    "    dim = A.shape\n",
    "    A_rows = dim[0]\n",
    "    A_cols = dim[1]\n",
    "    dim = s.shape\n",
    "    s_rows = dim[0]\n",
    "\n",
    "    functionValue = ((s * (np.ones(A_rows)).dot(A))).dot(s)\n",
    "    gradient = np.outer(np.ones(A_rows), (s * s))\n",
    "\n",
    "    return functionValue, gradient"
   ]
  },
  {
   "cell_type": "code",
   "execution_count": 43,
   "id": "547c9aeb",
   "metadata": {},
   "outputs": [
    {
     "data": {
      "text/plain": [
       "(42.0,\n",
       " array([[1., 4., 9.],\n",
       "        [1., 4., 9.],\n",
       "        [1., 4., 9.]]))"
      ]
     },
     "execution_count": 43,
     "metadata": {},
     "output_type": "execute_result"
    }
   ],
   "source": [
    "fAndG(np.ones((3,3)), np.array([1,2,3]))"
   ]
  },
  {
   "cell_type": "code",
   "execution_count": 62,
   "id": "27b88582",
   "metadata": {},
   "outputs": [],
   "source": [
    "A = np.random.uniform(0, 100, size=(10, 10))\n",
    "A = normalize(A, norm='l1')"
   ]
  },
  {
   "cell_type": "code",
   "execution_count": 64,
   "id": "e1c8837c",
   "metadata": {},
   "outputs": [
    {
     "data": {
      "text/plain": [
       "1.2607409629432456"
      ]
     },
     "execution_count": 64,
     "metadata": {},
     "output_type": "execute_result"
    }
   ],
   "source": [
    "max(A.sum(axis=0))"
   ]
  },
  {
   "cell_type": "code",
   "execution_count": null,
   "id": "90caa4c5",
   "metadata": {},
   "outputs": [],
   "source": [
    "np.linalg.eig(1/2 * A)"
   ]
  }
 ],
 "metadata": {
  "kernelspec": {
   "display_name": "feedsrankenv",
   "language": "python",
   "name": "feedsrankenv"
  },
  "language_info": {
   "codemirror_mode": {
    "name": "ipython",
    "version": 3
   },
   "file_extension": ".py",
   "mimetype": "text/x-python",
   "name": "python",
   "nbconvert_exporter": "python",
   "pygments_lexer": "ipython3",
   "version": "3.10.4"
  }
 },
 "nbformat": 4,
 "nbformat_minor": 5
}
